{
 "cells": [
  {
   "cell_type": "markdown",
   "metadata": {},
   "source": [
    "James Gardner and S. Borhanian, 2022 \n",
    "#### based on quick_start.ipynb by Borhanian "
   ]
  },
  {
   "cell_type": "markdown",
   "metadata": {},
   "source": [
    "want to analyse science case/s for CE only:\n",
    "\n",
    "CE-N 40km with CE-S 40km or 20km\n",
    "\n",
    "if done, then look at CE-S with one ET detector"
   ]
  },
  {
   "cell_type": "code",
   "execution_count": 1,
   "metadata": {},
   "outputs": [],
   "source": [
    "from gwbench import network\n",
    "\n",
    "import os, sys\n",
    "import numpy as np\n",
    "from tqdm import tqdm\n",
    "import matplotlib.pyplot as plt"
   ]
  },
  {
   "cell_type": "code",
   "execution_count": 2,
   "metadata": {},
   "outputs": [],
   "source": [
    "# https://stackoverflow.com/a/45669280; use as ``with HiddenPrints():''\n",
    "class HiddenPrints:\n",
    "    def __enter__(self):\n",
    "        self._original_stdout = sys.stdout\n",
    "        sys.stdout = open(os.devnull, 'w')\n",
    "\n",
    "    def __exit__(self, exc_type, exc_val, exc_tb):\n",
    "        sys.stdout.close()\n",
    "        sys.stdout = self._original_stdout"
   ]
  },
  {
   "cell_type": "markdown",
   "metadata": {},
   "source": [
    "## Network initialisation"
   ]
  },
  {
   "cell_type": "code",
   "execution_count": null,
   "metadata": {},
   "outputs": [],
   "source": [
    "# initialisation is '<config>_<site>'\n",
    "# other configurations (Tab.4): aLIGO,A+,V+,K+,Voyager-CBO,Voyager-PMO,ET \n",
    "# CE configs: <stage>-<arm length>-<optimisation> = CE1/CE2-10/20/30/40-CBO/PMO\n",
    "# sites/locations (Tab.3): H,L,V,K,I,E,C,N,S; the latter three are Main, North, and South for CE\n",
    "\n",
    "# choose the desired detectors\n",
    "# CE-N 40km, CE-S 40km:\n",
    "network_spec = ['CE1-40-CBO_C', 'CE1-40-CBO_S']\n",
    "# network_spec = ['CE2-40-CBO_C', 'CE2-40-CBO_S'] # 2nd stage of development, compare as well\n",
    "# # CE-N 40km, CE-S 20km:\n",
    "# network_spec = ['CE1-40-CBO_C', 'CE1-20-PMO_S']\n",
    "# network_spec = ['CE2-40-CBO_C', 'CE2-20-PMO_S'] # 2nd stage\n",
    "\n",
    "# initialize the network with the desired detectors\n",
    "net = network.Network(network_spec)\n",
    "\n",
    "# frequency range\n",
    "f = np.arange(5., 61.5, 2**-4) # i.e. looking for CBCs around 50 Hz, change for PMO\n",
    "\n",
    "# choose the desired waveform \n",
    "wf_model_name = 'tf2' # TaylorF2, coded in gwbench, allows for symbolic differentiation\n",
    "# other waveforms are available (e.g. tf2_tidal) but require different injection parameters\n",
    "\n",
    "# pass the chosen waveform to the network for initialization\n",
    "net.set_wf_vars(wf_model_name=wf_model_name)\n",
    "\n",
    "# injection parameters\n",
    "# for GW150914\n",
    "inj_params = {\n",
    "    'Mc':    30.9,\n",
    "    'eta':   0.247,\n",
    "    'chi1z': 0,\n",
    "    'chi2z': 0,\n",
    "    'DL':    475,\n",
    "    'tc':    0,\n",
    "    'phic':  0,\n",
    "    'iota':  np.pi/4,\n",
    "    'ra':    np.pi/4,\n",
    "    'dec':   np.pi/4,\n",
    "    'psi':   np.pi/4,\n",
    "    'gmst0': 0\n",
    "    }\n",
    "\n",
    "# assign with respect to which parameters to take derivatives, for the FIM\n",
    "deriv_symbs_string = 'Mc eta DL tc phic iota ra dec psi'\n",
    "\n",
    "# assign which parameters to convert to cos or log versions\n",
    "conv_cos = ('iota','dec')\n",
    "conv_log = ('Mc','DL')\n",
    "\n",
    "# choose whether to take Earth's rotation into account\n",
    "use_rot = 0\n",
    "\n",
    "# pass all these variables to the network\n",
    "net.set_net_vars(\n",
    "    f=f, inj_params=inj_params,\n",
    "    deriv_symbs_string=deriv_symbs_string,\n",
    "    conv_cos=conv_cos, conv_log=conv_log,\n",
    "    use_rot=use_rot\n",
    "    )\n",
    "print('Network initialised')"
   ]
  },
  {
   "cell_type": "markdown",
   "metadata": {},
   "source": [
    "## GW benchmarking"
   ]
  },
  {
   "cell_type": "code",
   "execution_count": null,
   "metadata": {},
   "outputs": [],
   "source": [
    "# compute the WF polarizations and their derivatives\n",
    "net.calc_wf_polarizations()\n",
    "net.calc_wf_polarizations_derivs_num()\n",
    "\n",
    "# setup antenna patterns, location phase factors, and PSDs\n",
    "net.setup_ant_pat_lpf_psds()\n",
    "# results are accessed like this\n",
    "# net.detectors[0].Fp # [i] for ith detector in network\n",
    "# net.detectors[0].Fc # --> not frequency dependent?\n",
    "# net.detectors[0].Flp\n",
    "# net.detectors[0].psd # f in future calculations truncated to match psd\n",
    "\n",
    "# compute the detector responses and their derivatives\n",
    "# analogous to WF calculation\n",
    "net.calc_det_responses()\n",
    "net.calc_det_responses_derivs_num()\n",
    "# access results via\n",
    "# net.detectors[0].hf\n",
    "# net.detectors[0].del_hf\n",
    "\n",
    "# calculate the network and detector SNRs\n",
    "net.calc_snrs()\n",
    "# print(net.snr, net.snr_sq, net.detectors[0].snr, net.detectors[0].snr_sq)\n",
    "\n",
    "# calculate the network and detector Fisher matrices, condition numbers, ...\n",
    "# ... covariance matrices, error estimates, and inversion errors\n",
    "net.calc_errors() # finds FIMs, then inverts to find covariance matrix and error estimates of params\n",
    "# print(net.fisher, net.cond_num, net.cov, net.errs, net.inv_err)\n",
    "# print(net.detectors[0].fisher, net.detectors[0].cond_num, net.detectors[0].cov,\n",
    "#       net.detectors[0].errs, net.detectors[0].inv_err)\n",
    "\n",
    "# calculate the 90%-credible sky area (in [deg]^2)\n",
    "net.calc_sky_area_90()\n",
    "print('\\nBenchmarking complete')"
   ]
  },
  {
   "cell_type": "code",
   "execution_count": null,
   "metadata": {},
   "outputs": [],
   "source": [
    "# print the contents of the detector objects (inside the network)\n",
    "net.print_detectors()\n",
    "\n",
    "# print the contents of the network objects\n",
    "net.print_network()"
   ]
  },
  {
   "cell_type": "code",
   "execution_count": null,
   "metadata": {},
   "outputs": [],
   "source": []
  },
  {
   "cell_type": "code",
   "execution_count": null,
   "metadata": {
    "scrolled": true
   },
   "outputs": [],
   "source": [
    "# net.get_snrs_errs_cov_fisher_inv_err_for_key(key='network')"
   ]
  },
  {
   "cell_type": "code",
   "execution_count": null,
   "metadata": {},
   "outputs": [],
   "source": [
    "# # check if f truncated in any of the detectors to fit the psd\n",
    "# for i in range(len(net.detectors)):\n",
    "#     print(np.all(net.f == net.detectors[i].f))"
   ]
  },
  {
   "cell_type": "code",
   "execution_count": null,
   "metadata": {},
   "outputs": [],
   "source": []
  },
  {
   "cell_type": "markdown",
   "metadata": {},
   "source": [
    "### replicating Fig 3 from Borhanian 2021 to test understanding, then try for CE only"
   ]
  },
  {
   "cell_type": "code",
   "execution_count": 3,
   "metadata": {
    "scrolled": true
   },
   "outputs": [],
   "source": [
    "# try for GW170817 and tf2, then for tf2_tidal\n",
    "\n",
    "# assume that aLIGO was used\n",
    "net = network.Network(['aLIGO_H','aLIGO_L','aLIGO_V'])\n",
    "\n",
    "# not stated, using one from GW170817 paper\n",
    "# start with 100 sample points, then move up from there (e.g. to 1e4)\n",
    "fmin, fmax, fnum = 30, 2048, 100\n",
    "f = np.linspace(fmin, fmax, fnum)\n",
    "\n",
    "net.set_wf_vars(wf_model_name='tf2_tidal')\n",
    "\n",
    "# injection parameters for GW170817, reported median values (source-frame)\n",
    "# using low-spin priors (Borhanian doesn't say which they used)\n",
    "# https://journals.aps.org/prl/pdf/10.1103/PhysRevLett.119.161101\n",
    "# subsequent work (2019) has refined these values\n",
    "base_measured_params = {\n",
    "    'Mc':    1.188, # Msun\n",
    "    'eta':   0.2485, # m1=1.48 Msun, m2=1.265 Msun, m2/m1=0.85, Mtot=2.74 Msun, eta=m1*m2/(m1+m2)**2\n",
    "    'chi1z': 0,\n",
    "    'chi2z': 0,\n",
    "    'DL':    40, # MPc\n",
    "    'tc':    0, # not quoted\n",
    "    'phic':  0,\n",
    "#     'iota':  np.pi/4, # 1000 random instances of these, measured: 55deg\n",
    "#     'ra':    np.pi/4, # 1000 random instances of these\n",
    "#     'dec':   np.pi/4, # 1000 random instances of these\n",
    "    'psi':   np.pi/4, # not quoted, to-do: check effect\n",
    "    'gmst0': 0, # not quoted but doesn't matter?\n",
    "    'lam_t': 800, # combined dimensionless tidal deformability\n",
    "    'delta_lam_t': 0 # not quoted, but assuming zero because distributed around zero\n",
    "}\n",
    "\n",
    "# assign with respect to which parameters to take derivatives, for the FIM, all 12 but not delta_lam_t (or gmst0)\n",
    "deriv_symbs_string = 'Mc eta chi1z chi2z DL tc phic iota ra dec psi lam_t'\n",
    "\n",
    "# assign which parameters to convert to log or cos versions for differentiation\n",
    "conv_log = ('Mc', 'DL', 'lam_t')\n",
    "conv_cos = ('iota', 'dec')\n",
    "\n",
    "# choose whether to take Earth's rotation into account\n",
    "use_rot = 0"
   ]
  },
  {
   "cell_type": "code",
   "execution_count": 4,
   "metadata": {},
   "outputs": [
    {
     "name": "stderr",
     "output_type": "stream",
     "text": [
      "100%|████████████████████████████████████████████████████████████████| 10/10 [00:34<00:00,  3.45s/it]\n"
     ]
    }
   ],
   "source": [
    "# starting with just 10 instances, scale up to 1000 later\n",
    "num_instances = 10\n",
    "\n",
    "# arrays to store integrated SNR, 1sigma error estimates (for Mc and DL), and 90% credible sky area\n",
    "results_snr_errs_skyarea = np.empty((num_instances, 4))\n",
    "\n",
    "with tqdm(total=num_instances) as pbar:\n",
    "    i = 0\n",
    "    while i < num_instances:\n",
    "        # randomly sample inclination and sky position\n",
    "        iota, ra, dec = np.random.uniform(low=0, high=2*np.pi, size=3)\n",
    "        inj_params = dict(**base_measured_params, iota=iota, ra=ra, dec=dec)\n",
    "\n",
    "        # pass all these variables to the network\n",
    "        net.set_net_vars(\n",
    "            f=f, inj_params=inj_params,\n",
    "            deriv_symbs_string=deriv_symbs_string,\n",
    "            conv_cos=conv_cos, conv_log=conv_log,\n",
    "            use_rot=use_rot\n",
    "        )\n",
    "\n",
    "        with HiddenPrints():\n",
    "            # compute the WF polarizations and their derivatives\n",
    "            net.calc_wf_polarizations()\n",
    "            net.calc_wf_polarizations_derivs_num()\n",
    "\n",
    "            # setup antenna patterns, location phase factors, and PSDs\n",
    "            net.setup_ant_pat_lpf_psds()\n",
    "\n",
    "            # compute the detector responses and their derivatives\n",
    "            net.calc_det_responses()\n",
    "            net.calc_det_responses_derivs_num()\n",
    "\n",
    "            # calculate the network and detector SNRs\n",
    "            net.calc_snrs()\n",
    "\n",
    "            # calculate the Fisher and covariance matrices, then error estimates\n",
    "            net.calc_errors()\n",
    "\n",
    "            # calculate the 90%-credible sky area (in [deg]^2)\n",
    "            net.calc_sky_area_90()\n",
    "\n",
    "        if net.cond_num < 1e15:\n",
    "            results_snr_errs_skyarea[i] = net.snr, net.errs['log_Mc'], net.errs['log_DL'], net.errs['sky_area_90']\n",
    "            i += 1\n",
    "            pbar.update(1)   \n",
    "            # else, try again until results array full (don't increment index i)           "
   ]
  },
  {
   "cell_type": "code",
   "execution_count": 5,
   "metadata": {},
   "outputs": [
    {
     "name": "stdout",
     "output_type": "stream",
     "text": [
      "[[8.85541746e+01 9.36151637e-04 5.64408901e-01 1.51185901e-01]\n",
      " [6.50267213e+01 1.27449230e-03 9.91909424e-01 2.81288106e+00]\n",
      " [1.57626605e+01 5.26171935e-03 1.35491823e-01 1.21817558e+01]\n",
      " [5.29687772e+01 1.56500677e-03 1.24936273e-01 1.86926956e+00]\n",
      " [4.99950539e+01 1.65831207e-03 7.66348444e-02 9.22093336e-01]\n",
      " [6.72199559e+01 1.23256689e-03 9.77128139e-02 5.04453308e-01]\n",
      " [3.01912044e+01 2.74662914e-03 3.75478490e-02 4.39875052e+00]\n",
      " [7.56932126e+01 1.09571280e-03 7.99227073e-01 3.95884015e-01]\n",
      " [6.42615705e+01 1.28910702e-03 9.89432511e-02 2.92897045e-01]\n",
      " [7.91575279e+01 1.04678854e-03 7.90937163e-01 3.46957729e-01]]\n"
     ]
    }
   ],
   "source": [
    "print(results_snr_errs_skyarea)"
   ]
  },
  {
   "cell_type": "code",
   "execution_count": 65,
   "metadata": {},
   "outputs": [
    {
     "data": {
      "image/png": "[encoded data removed]",
      "text/plain": [
       "<Figure size 1296x144 with 4 Axes>"
      ]
     },
     "metadata": {
      "needs_background": "light"
     },
     "output_type": "display_data"
    }
   ],
   "source": [
    "# plotting\n",
    "plt.rcParams.update({'font.size': 14})\n",
    "fig, axs = plt.subplots(1, 4, figsize=(18, 2), sharey=True, gridspec_kw={'wspace':0.05, 'hspace':0})\n",
    "\n",
    "for i, ax in enumerate(axs):\n",
    "    data = results_snr_errs_skyarea[:,i]\n",
    "    ax.hist(data, histtype='step', facecolor='b', label='tf2_tidal',\n",
    "            bins=np.geomspace(data.min(), data.max(), num_instances))\n",
    "    ax.set_xscale('log')\n",
    "    # to-do: fix the bug that, when there's no major tick, the axis has no reference value\n",
    "    ax.xaxis.set_minor_locator(plt.LogLocator(base = 10.0, subs = np.arange(1.0, 10.0) * 0.1, numticks = 10))\n",
    "    ax.xaxis.set_minor_formatter(plt.NullFormatter())\n",
    "\n",
    "axs[0].set_ylabel(r'GW170817')\n",
    "axs[0].set_xlabel(r'integrated SNR, $\\rho$')\n",
    "# error in log(X) is the fractional error in X (i.e. deltaX/X) by chain rule \n",
    "axs[1].set_xlabel(r'chirp mass, $\\Delta\\mathcal{M}/\\mathcal{M}$')\n",
    "axs[2].set_xlabel(r'luminosity distance, $\\Delta D_L/D_L$')\n",
    "axs[3].set_xlabel(r'sky area, $\\Omega$ / $\\mathrm{deg}^2$')\n",
    "axs[0].legend()\n",
    "\n",
    "fig.align_labels()\n",
    "plt.show(fig)"
   ]
  },
  {
   "cell_type": "code",
   "execution_count": null,
   "metadata": {},
   "outputs": [],
   "source": [
    "# # to-do: \"Besides, in order to allow for an\n",
    "# easier comparison with the measured values we converted the\n",
    "# fractional errors from the standard 1σ-output of the FIF to the\n",
    "# respective 90% credible bounds.\"?"
   ]
  },
  {
   "cell_type": "code",
   "execution_count": null,
   "metadata": {},
   "outputs": [],
   "source": []
  },
  {
   "cell_type": "code",
   "execution_count": null,
   "metadata": {},
   "outputs": [],
   "source": []
  }
 ],
 "metadata": {
  "kernelspec": {
   "display_name": "Python 3 (ipykernel)",
   "language": "python",
   "name": "python3"
  },
  "language_info": {
   "codemirror_mode": {
    "name": "ipython",
    "version": 3
   },
   "file_extension": ".py",
   "mimetype": "text/x-python",
   "name": "python",
   "nbconvert_exporter": "python",
   "pygments_lexer": "ipython3",
   "version": "3.9.10"
  }
 },
 "nbformat": 4,
 "nbformat_minor": 4
}
