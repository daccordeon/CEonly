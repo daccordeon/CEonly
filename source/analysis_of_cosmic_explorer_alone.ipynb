{
 "cells": [
  {
   "cell_type": "markdown",
   "metadata": {},
   "source": [
    "James Gardner, 2022 "
   ]
  },
  {
   "cell_type": "markdown",
   "metadata": {},
   "source": [
    "want to analyse science case/s for CE only:\n",
    "\n",
    "CE-N 40km with CE-S 40km or 20km\n",
    "\n",
    "if done, then look at CE-S with one ET detector\n",
    "\n",
    "verify techniques by replicating *Borhanian and Sathya 2022*"
   ]
  },
  {
   "cell_type": "code",
   "execution_count": null,
   "metadata": {},
   "outputs": [],
   "source": [
    "from detection_rates import *\n",
    "\n",
    "# suppress warnings\n",
    "from warnings import filterwarnings\n",
    "filterwarnings('ignore')"
   ]
  },
  {
   "cell_type": "markdown",
   "metadata": {},
   "source": [
    "### Replicating Borhanian and Sathya 2022 injections and detection rates, then for CE only "
   ]
  },
  {
   "cell_type": "code",
   "execution_count": null,
   "metadata": {},
   "outputs": [],
   "source": [
    "# batch detection rate results for given science case and network set\n",
    "\n",
    "# waveform, LAL list: https://lscsoft.docs.ligo.org/lalsuite/lalsimulation/group___l_a_l_sim_inspiral__h.html\n",
    "# --- BNS ---\n",
    "# science_case = 'BNS'\n",
    "# wf_model_name, wf_other_var_dic = 'lal_bns', dict(approximant='IMRPhenomD_NRTidalv2') # for tidal, see https://arxiv.org/abs/1905.06011\n",
    "# to-do: missing dimensionless tidal parameters, calculate tidal parameters from sampled m1, m2 in injections.py? requires Love number and radii (i.e. choose an EoS)\n",
    "# --- BBH ---\n",
    "science_case = 'BBH'\n",
    "wf_model_name, wf_other_var_dic = 'lal_bbh', dict(approximant='IMRPhenomHM')\n",
    "# --- analytic waveforms ---\n",
    "# wf_model_name, wf_other_var_dic = 'tf2', None # to-do: stop using this once tidal params found\n",
    "# wf_model_name, wf_other_var_dic = 'tf2_tidal', None\n",
    "\n",
    "# number of injections per redshift bin (6 bins)\n",
    "num_injs = 10\n",
    "\n",
    "# network_spec_list = BS2022_STANDARD_6['nets']\n",
    "# network_spec_list = CE_ONLY['nets']\n",
    "network_spec_list = CE_S_W_ET['nets']\n",
    "\n",
    "for network_spec in tqdm(network_spec_list):\n",
    "    detection_rate_for_network_and_waveform(network_spec, science_case, wf_model_name, wf_other_var_dic, num_injs, show_fig=False, print_progress=False, print_reach=False, hack_merger_rate_coeff='default')"
   ]
  },
  {
   "cell_type": "code",
   "execution_count": null,
   "metadata": {},
   "outputs": [],
   "source": [
    "# meta-batch to save all the required results (but not generate plots to save time) for the below cell\n",
    "network_spec_list = BS2022_STANDARD_6['nets'] + CE_ONLY['nets'] + CE_S_W_ET['nets']\n",
    "\n",
    "science_cases = ('BNS', 'BBH')\n",
    "# --- numerical BNS as in B&S2021 ---\n",
    "# wf_specifications = (('lal_bns', dict(approximant='IMRPhenomD_NRTidalv2')), ('lal_bbh', dict(approximant='IMRPhenomHM')))\n",
    "# --- analytic BNS ---\n",
    "wf_specifications = (('tf2_tidal', None), ('lal_bbh', dict(approximant='IMRPhenomHM')))\n",
    "\n",
    "# number of injections per redshift bin (6 bins), tuple over science cases (more for symbolic wf.'s than numerical)\n",
    "num_injs_list = (100, 10)\n",
    "\n",
    "for network_spec in tqdm(network_spec_list):\n",
    "    for j, science_case in enumerate(science_cases):\n",
    "        wf_model_name, wf_other_var_dic = wf_specifications[j]        \n",
    "        detection_rate_for_network_and_waveform(network_spec, science_case,\n",
    "                                                wf_model_name, wf_other_var_dic, num_injs_list[j],\n",
    "                                                generate_fig=False, show_fig=False,\n",
    "                                                print_progress=False, print_reach=False,\n",
    "                                                hack_merger_rate_coeff='default')"
   ]
  },
  {
   "cell_type": "markdown",
   "metadata": {},
   "source": [
    "### Collating different networks saved using the above method"
   ]
  },
  {
   "cell_type": "code",
   "execution_count": null,
   "metadata": {},
   "outputs": [],
   "source": [
    "# batch of six collated plots: all three network sets and two science cases\n",
    "# assumes results saved: above results generating cell must be run to save results for this cell\n",
    "\n",
    "# ! remember to update plot label for each case else the plot will be overwritten\n",
    "# how standard the \"standard 6\" are is unclear, seems like an invention of B&S2022\n",
    "# CE only, with 2G+ as a reference\n",
    "# CE South with one ET detector\n",
    "\n",
    "network_sets = (BS2022_STANDARD_6['nets'],\n",
    "                CE_ONLY['nets'] + [['A+_H', 'A+_L', 'V+_V', 'K+_K', 'A+_I'],],\n",
    "                CE_S_W_ET['nets'] + [['A+_H', 'A+_L', 'V+_V', 'K+_K', 'A+_I'],])\n",
    "network_labels = ('standard_6', 'CE_only', 'CE_S..ET_ET1')\n",
    "science_cases = ('BNS', 'BBH')\n",
    "specific_wfs = ('tf2_tidal', None)\n",
    "\n",
    "for i, network_set in enumerate(network_sets):\n",
    "    for j, science_case in enumerate(science_cases):\n",
    "        plot_label = f'SCI-CASE_{science_case}_NET_{network_labels[i]}'\n",
    "        specific_wf = specific_wfs[j]\n",
    "        if specific_wf is not None:\n",
    "            plot_label += f'_WF_{specific_wf}'\n",
    "        compare_networks_from_saved_results(network_set, science_case, plot_label=plot_label,\n",
    "                                            specific_wf=specific_wf,\n",
    "                                            show_fig=False,\n",
    "                                            hack_merger_rate_coeff='default') "
   ]
  },
  {
   "cell_type": "markdown",
   "metadata": {},
   "source": [
    "### Measurement errors"
   ]
  },
  {
   "cell_type": "code",
   "execution_count": null,
   "metadata": {},
   "outputs": [],
   "source": [
    "def add_measurement_errs_CDFs_to_axs(axs, results_reordered, num_bins, colour, label):\n",
    "    \"\"\"add PDFs wrt dlog(x) and CDFs on log-log scale to axs\"\"\"\n",
    "    for i, data in enumerate(results_reordered):\n",
    "        data.sort() # sorts in place\n",
    "        log_bins = np.geomspace(data.min(), data.max(), num_bins)\n",
    "        # density vs weights is normalising integral (area under the curve) vs total count, integral behaves counter-intuitively visually with logarithmic axis \n",
    "#         label = legend_label if i==0 else None\n",
    "        axs[0, i].hist(data, weights=np.full(len(data), 1/len(data)), histtype='step', bins=log_bins, color=colour, label=label)\n",
    "\n",
    "        # # binned CDF\n",
    "        # axs[1, i].hist(data, density=True, cumulative=True, histtype='step', color='k', bins=log_bins)\n",
    "        # axs[1, i].hist(data, density=True, cumulative=-1, histtype='step', color='r', bins=log_bins)\n",
    "        # unbinned CDF\n",
    "        cdf = np.arange(len(data))/len(data)\n",
    "        axs[1, i].plot(data, cdf, color=colour, label=label, zorder=2)\n",
    "        if i == 0:\n",
    "            # invert SNR CDF to ``highlight behaviour at large values'' - B&S2022\n",
    "            axs[1, i].plot(data, 1-cdf, linestyle='--', color=colour, label=label)\n",
    "\n",
    "def collate_measurement_errs_CDFs_of_networks(network_spec_list, science_case, specific_wf=None, num_bins=20, save_fig=True, show_fig=True, plot_label=None, full_legend=False, print_progress=True):\n",
    "    \"\"\"collate PDFs-dlog(x) and CDFs of SNR, sky-area, and measurement errs for given networks\"\"\"\n",
    "    found_files = find_files_given_networks(network_spec_list, science_case, specific_wf=specific_wf, print_progress=print_progress)\n",
    "    net_labels = [network.Network(network_spec).label for network_spec in network_spec_list]\n",
    "    if plot_label is None:\n",
    "        plot_label = ''.join(tuple('_NET_'+l for l in net_labels))[1:]\n",
    "\n",
    "    plt.rcParams.update({'font.size': 14})\n",
    "    fig, axs = plt.subplots(2, 6, sharex='col', sharey='row', figsize=(16, 4), gridspec_kw=dict(wspace=0.05, hspace=None))\n",
    "    \n",
    "    # same colours manipulation as compare_networks_from_saved_results\n",
    "    colours_used = []\n",
    "    for i, file in enumerate(found_files):\n",
    "        # redshift (z), integrated SNR (rho), measurement errors (logMc, logDL, eta, iota), 90% credible sky area\n",
    "        # errs: fractional chirp mass, fractional luminosity distance, symmetric mass ratio, inclination angle\n",
    "        results = np.load(f'data_redshift_snr_errs_sky-area/{file}')\n",
    "                \n",
    "        if full_legend:\n",
    "            legend_label = file_name_to_multiline_readable(file, two_rows_only=True)\n",
    "        else:\n",
    "            legend_label = file_name_to_multiline_readable(file, net_only=True)\n",
    "            \n",
    "        net_spec = file.replace('NET_', '_SCI-CASE_').split('_SCI-CASE_')[1].split('..')\n",
    "\n",
    "        if repr(net_spec) in DICT_KEY_NETSPEC_VAL_COLOUR.keys():\n",
    "            colour = DICT_KEY_NETSPEC_VAL_COLOUR[repr(net_spec)]\n",
    "            # avoid duplicating colours in plot\n",
    "            if colour in colours_used:\n",
    "                colour = None\n",
    "            else:\n",
    "                colours_used.append(colour)\n",
    "        else:\n",
    "            colour = None        \n",
    "        \n",
    "        # re-order results columns to have sky-area second\n",
    "        results_reordered = (results.transpose()[i] for i in (1, -1, *range(2, 6)))\n",
    "        add_measurement_errs_CDFs_to_axs(axs, results_reordered, num_bins, colour, legend_label) \n",
    "        \n",
    "#     quantity_long_labels = (r'integrated SNR, $\\rho$', r'90%-credible sky area, $\\Omega$ / $\\mathrm{deg}^2$', r'fractional chirp mass error, $\\Delta\\mathcal{M}/\\mathcal{M}$', r'fractional luminosity distance error, $\\Delta D_L/D_L$', r'symmetric mass ratio error, $\\Delta\\eta$', r'inclination angle error, $\\Delta\\iota$')\n",
    "    quantity_short_labels = (r'SNR, $\\rho$', r'$\\Omega$ / $\\mathrm{deg}^2$', r'$\\Delta\\mathcal{M}/\\mathcal{M}$', r'$\\Delta D_L/D_L$', r'$\\Delta\\eta$', r'$\\Delta\\iota$')\n",
    "\n",
    "    for i in range(len(axs[1])):\n",
    "        axs[1, i].axhline(1, color='lightgrey', zorder=1)\n",
    "        axs[1, i].set(xscale='log', yscale='log', xlabel=quantity_short_labels[i])\n",
    "\n",
    "    # hist handles are boxes, want lines and so borrow from 1, 1 to avoid dotted\n",
    "    handles, _ = axs[1, 1].get_legend_handles_labels()\n",
    "    axs[0, 0].legend(handles=handles, handlelength=1, bbox_to_anchor=(0, -1.7), loc=\"upper left\")\n",
    "    fig.suptitle(r'collated PDFs wrt $\\mathrm{d}\\log(x)$ and CDFs'+f'\\n{plot_label}', y=0.9, verticalalignment='bottom')\n",
    "    axs[0, 0].set(ylabel='count')\n",
    "    axs[1, 0].set(ylabel='CDF', ylim=(1e-4, 1e0+1))\n",
    "    axs[1, 0].legend(labels=['CDF', '1-CDF'], handles=[mlines.Line2D([], [], color='k'), mlines.Line2D([], [], color='k', linestyle='--')], handlelength=1)\n",
    "    fig.align_labels()\n",
    "\n",
    "    if save_fig:\n",
    "        fig.savefig(f'plots/collated_CDFs_snr_errs_sky-area_{plot_label}.pdf')\n",
    "    if show_fig:\n",
    "        plt.show()\n",
    "    plt.close(fig)"
   ]
  },
  {
   "cell_type": "code",
   "execution_count": null,
   "metadata": {},
   "outputs": [],
   "source": [
    "network_set = BS2022_STANDARD_6['nets']\n",
    "network_set_label = 'standard_6'\n",
    "science_case = 'BNS'\n",
    "specific_wf = 'tf2_tidal'\n",
    "\n",
    "plot_label = f'SCI-CASE_{science_case}_NETS_{network_set_label}'\n",
    "if specific_wf is not None:\n",
    "    plot_label += f'_WF_{specific_wf}'\n",
    "\n",
    "collate_measurement_errs_CDFs_of_networks(network_set, science_case, specific_wf=specific_wf, plot_label=plot_label, full_legend=False, print_progress=True)"
   ]
  },
  {
   "cell_type": "code",
   "execution_count": null,
   "metadata": {},
   "outputs": [],
   "source": []
  },
  {
   "cell_type": "code",
   "execution_count": null,
   "metadata": {},
   "outputs": [],
   "source": []
  },
  {
   "cell_type": "code",
   "execution_count": null,
   "metadata": {},
   "outputs": [],
   "source": []
  },
  {
   "cell_type": "code",
   "execution_count": null,
   "metadata": {},
   "outputs": [],
   "source": [
    "# B&S2022 plots cumulative density functions (CDF) versus redshift to show distribution of measurement errors (why not just use PDF, i.e. normalised histograms, like B2021?)\n",
    "# for non-SNR quantities only use results above an SNR threshold (e.g. 10), alternatively, for all non--sky area quantities only use results below a 90% credible sky area threshold (e.g. 4.4e-2 sqrDeg, where the full Moon is ~20.0e-2 sqrDeg given a radius of 0.5 deg)\n",
    "\n",
    "# ax.hist(data, histtype='step', facecolor='b', label='tf2_tidal', bins=np.geomspace(data.min(), data.max(), 50))"
   ]
  },
  {
   "cell_type": "code",
   "execution_count": null,
   "metadata": {},
   "outputs": [],
   "source": []
  },
  {
   "cell_type": "code",
   "execution_count": null,
   "metadata": {},
   "outputs": [],
   "source": []
  },
  {
   "cell_type": "code",
   "execution_count": null,
   "metadata": {},
   "outputs": [],
   "source": []
  },
  {
   "cell_type": "code",
   "execution_count": null,
   "metadata": {},
   "outputs": [],
   "source": [
    "# to-do: fix merger rate --- find proportionality constant --- to achieve 1e5 per year at z=1 (BBH) z=3 (BNS)\n",
    "# i.e. stop using hack merger rate coefficients"
   ]
  },
  {
   "cell_type": "code",
   "execution_count": null,
   "metadata": {},
   "outputs": [],
   "source": [
    "# to-do: stop CE alone being ill-conditioned, seems to work for BBH numeric wf"
   ]
  },
  {
   "cell_type": "code",
   "execution_count": null,
   "metadata": {},
   "outputs": [],
   "source": [
    "# to-do: fix BNS numerical waveform, current error \"numpy.linalg.LinAlgError: Array must not contain infs or NaNs\" with HLVKI+"
   ]
  },
  {
   "cell_type": "code",
   "execution_count": null,
   "metadata": {},
   "outputs": [],
   "source": [
    "# to-do: change sigmoid fits to global optimisation to avoid needing the initial guesses in B&S2022, this is not possible with scipy, need to write my own or source a global curve fitting (apparantly a non-trivial problem)"
   ]
  },
  {
   "cell_type": "code",
   "execution_count": null,
   "metadata": {},
   "outputs": [],
   "source": [
    "# to-do: refactor two plotting functions "
   ]
  },
  {
   "cell_type": "code",
   "execution_count": null,
   "metadata": {},
   "outputs": [],
   "source": [
    "# to-do: fix BBH for large num_injs, error with frequency array f being too small for M large? --> decrease df \n",
    "# gets stuck towards end of progress bar consistently\n",
    "# IndexError: index 1 is out of bounds for axis 0 with size 1"
   ]
  },
  {
   "cell_type": "code",
   "execution_count": null,
   "metadata": {},
   "outputs": [],
   "source": [
    "# to-do: increase sampling below 4e-2, but App A uses (0, 0.5, seed)?"
   ]
  },
  {
   "cell_type": "code",
   "execution_count": null,
   "metadata": {},
   "outputs": [],
   "source": [
    "# to-do: tidy up refactoring, reduce total number of arguments with unpacking?"
   ]
  },
  {
   "cell_type": "code",
   "execution_count": null,
   "metadata": {},
   "outputs": [],
   "source": [
    "\"\"\"In fact, we see that the three generations (A+, Voyager, and NG) are qualitatively different\n",
    "with respect to every metric used in this study.\"\"\""
   ]
  },
  {
   "cell_type": "code",
   "execution_count": null,
   "metadata": {},
   "outputs": [],
   "source": []
  }
 ],
 "metadata": {
  "kernelspec": {
   "display_name": "Python 3 (ipykernel)",
   "language": "python",
   "name": "python3"
  },
  "language_info": {
   "codemirror_mode": {
    "name": "ipython",
    "version": 3
   },
   "file_extension": ".py",
   "mimetype": "text/x-python",
   "name": "python",
   "nbconvert_exporter": "python",
   "pygments_lexer": "ipython3",
   "version": "3.9.10"
  }
 },
 "nbformat": 4,
 "nbformat_minor": 4
}
