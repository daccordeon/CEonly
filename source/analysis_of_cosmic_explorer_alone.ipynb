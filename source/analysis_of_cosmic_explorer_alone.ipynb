{
 "cells": [
  {
   "cell_type": "markdown",
   "metadata": {},
   "source": [
    "James Gardner, 2022 "
   ]
  },
  {
   "cell_type": "markdown",
   "metadata": {},
   "source": [
    "want to analyse science case/s for CE only:\n",
    "\n",
    "CE-N 40km with CE-S 40km or 20km\n",
    "\n",
    "if done, then look at CE-S with one ET detector\n",
    "\n",
    "verify techniques by replicating *Borhanian and Sathya 2022*"
   ]
  },
  {
   "cell_type": "code",
   "execution_count": null,
   "metadata": {},
   "outputs": [],
   "source": [
    "from detection_rates import *\n",
    "\n",
    "# suppress warnings\n",
    "from warnings import filterwarnings\n",
    "filterwarnings('ignore')"
   ]
  },
  {
   "cell_type": "markdown",
   "metadata": {},
   "source": [
    "### Replicating Borhanian and Sathya 2022 injections and detection rates, then for CE only "
   ]
  },
  {
   "cell_type": "code",
   "execution_count": null,
   "metadata": {},
   "outputs": [],
   "source": [
    "# batch detection rate results for given science case and network set\n",
    "\n",
    "# waveform, LAL list: https://lscsoft.docs.ligo.org/lalsuite/lalsimulation/group___l_a_l_sim_inspiral__h.html\n",
    "# --- BNS ---\n",
    "# science_case = 'BNS'\n",
    "# wf_model_name, wf_other_var_dic = 'lal_bns', dict(approximant='IMRPhenomD_NRTidalv2') # for tidal, see https://arxiv.org/abs/1905.06011\n",
    "# to-do: missing dimensionless tidal parameters, calculate tidal parameters from sampled m1, m2 in injections.py? requires Love number and radii (i.e. choose an EoS)\n",
    "# --- BBH ---\n",
    "science_case = 'BBH'\n",
    "wf_model_name, wf_other_var_dic = 'lal_bbh', dict(approximant='IMRPhenomHM')\n",
    "# --- analytic waveforms ---\n",
    "# wf_model_name, wf_other_var_dic = 'tf2', None # to-do: stop using this once tidal params found\n",
    "# wf_model_name, wf_other_var_dic = 'tf2_tidal', None\n",
    "\n",
    "# number of injections per redshift bin (6 bins)\n",
    "num_injs = 10\n",
    "\n",
    "# network_spec_list = BS2022_STANDARD_6['nets']\n",
    "# network_spec_list = CE_ONLY['nets']\n",
    "network_spec_list = CE_S_W_ET['nets']\n",
    "\n",
    "for network_spec in tqdm(network_spec_list):\n",
    "    detection_rate_for_network_and_waveform(network_spec, science_case, wf_model_name, wf_other_var_dic, num_injs,\n",
    "                                            show_fig=False, print_progress=False, print_reach=False,\n",
    "                                            hack_merger_rate_coeff='default')"
   ]
  },
  {
   "cell_type": "code",
   "execution_count": null,
   "metadata": {},
   "outputs": [],
   "source": [
    "# meta-batch to save all the required results (but not make plots to save time) for the below cell\n",
    "network_spec_list = BS2022_STANDARD_6['nets'] + CE_ONLY['nets'] + CE_S_W_ET['nets']\n",
    "\n",
    "science_cases = ('BNS', 'BBH')\n",
    "# --- numerical BNS as in B&S2021 ---\n",
    "# wf_specifications = (('lal_bns', dict(approximant='IMRPhenomD_NRTidalv2')), ('lal_bbh', dict(approximant='IMRPhenomHM')))\n",
    "# --- analytic BNS ---\n",
    "wf_specifications = (('tf2_tidal', None), ('lal_bbh', dict(approximant='IMRPhenomHM')))\n",
    "\n",
    "# number of injections per redshift bin (6 bins), list over science cases\n",
    "num_injs_list = (100, 10)\n",
    "\n",
    "for network_spec in tqdm(network_spec_list):\n",
    "    for j, science_case in enumerate(science_cases):\n",
    "        wf_model_name, wf_other_var_dic = wf_specifications[j]        \n",
    "        detection_rate_for_network_and_waveform(network_spec, science_case,\n",
    "                                                wf_model_name, wf_other_var_dic, num_injs_list[j],\n",
    "                                                show_fig=False, print_progress=False, print_reach=False,\n",
    "                                                hack_merger_rate_coeff='default')"
   ]
  },
  {
   "cell_type": "markdown",
   "metadata": {},
   "source": [
    "### Collating different networks saved using the above method"
   ]
  },
  {
   "cell_type": "code",
   "execution_count": null,
   "metadata": {},
   "outputs": [],
   "source": [
    "# batch of six collated plots: all three network sets and two science cases\n",
    "# assumes results saved: above results generating cell must be run to save results for this cell\n",
    "\n",
    "# ! remember to update plot label for each case else the plot will be overwritten\n",
    "# how standard the \"standard 6\" are is unclear, seems like an invention of B&S2022\n",
    "# CE only, with 2G+ as a reference\n",
    "# CE South with one ET detector\n",
    "\n",
    "network_sets = (BS2022_STANDARD_6['nets'],\n",
    "                CE_ONLY['nets'] + [['A+_H', 'A+_L', 'V+_V', 'K+_K', 'A+_I'],],\n",
    "                CE_S_W_ET['nets'] + [['A+_H', 'A+_L', 'V+_V', 'K+_K', 'A+_I'],])\n",
    "network_labels = ('standard_6', 'CE_only', 'CE_S..ET_ET1')\n",
    "science_cases = ('BNS', 'BBH')\n",
    "specific_wfs = ('tf2_tidal', None)\n",
    "\n",
    "for i, network_set in enumerate(network_sets):\n",
    "    for j, science_case in enumerate(science_cases):\n",
    "        plot_label = f'SCI-CASE_{science_case}_NET_{network_labels[i]}'\n",
    "        specific_wf = specific_wfs[j]\n",
    "        if specific_wf is not None:\n",
    "            plot_label += f'_WF_{specific_wf}'\n",
    "        compare_networks_from_saved_results(network_set, science_case, plot_label=plot_label,\n",
    "                                            specific_wf=specific_wf,\n",
    "                                            show_fig=False,\n",
    "                                            hack_merger_rate_coeff='default') "
   ]
  },
  {
   "cell_type": "code",
   "execution_count": null,
   "metadata": {},
   "outputs": [],
   "source": []
  },
  {
   "cell_type": "code",
   "execution_count": null,
   "metadata": {},
   "outputs": [],
   "source": []
  },
  {
   "cell_type": "code",
   "execution_count": null,
   "metadata": {},
   "outputs": [],
   "source": []
  },
  {
   "cell_type": "code",
   "execution_count": null,
   "metadata": {},
   "outputs": [],
   "source": [
    "# to-do: fix merger rate --- find proportionality constant --- to achieve 1e5 per year at z=1 (BBH) z=3 (BNS)\n",
    "# i.e. stop using hack merger rate coefficients"
   ]
  },
  {
   "cell_type": "code",
   "execution_count": null,
   "metadata": {},
   "outputs": [],
   "source": [
    "# to-do: stop CE alone being ill-conditioned, seems to work for BBH numeric wf"
   ]
  },
  {
   "cell_type": "code",
   "execution_count": null,
   "metadata": {},
   "outputs": [],
   "source": [
    "# to-do: fix BNS numerical waveform, current error \"numpy.linalg.LinAlgError: Array must not contain infs or NaNs\" with HLVKI+"
   ]
  },
  {
   "cell_type": "code",
   "execution_count": null,
   "metadata": {},
   "outputs": [],
   "source": [
    "# to-do: change sigmoid fits to global optimisation to avoid needing the initial guesses in B&S2022, this is not possible with scipy, need to write my own or source a global curve fitting (apparantly a non-trivial problem)"
   ]
  },
  {
   "cell_type": "code",
   "execution_count": null,
   "metadata": {},
   "outputs": [],
   "source": [
    "# to-do: refactor two plotting functions "
   ]
  },
  {
   "cell_type": "code",
   "execution_count": null,
   "metadata": {},
   "outputs": [],
   "source": [
    "# to-do: fix BBH for large num_injs, error with frequency array f being too small for M large? --> decrease df \n",
    "# gets stuck towards end of progress bar consistently\n",
    "# IndexError: index 1 is out of bounds for axis 0 with size 1"
   ]
  },
  {
   "cell_type": "code",
   "execution_count": null,
   "metadata": {},
   "outputs": [],
   "source": [
    "# to-do: increase sampling below 4e-2, but App A uses (0, 0.5, seed)?"
   ]
  },
  {
   "cell_type": "code",
   "execution_count": null,
   "metadata": {},
   "outputs": [],
   "source": [
    "# to-do: tidy up refactoring, reduce total number of arguments with unpacking?"
   ]
  },
  {
   "cell_type": "code",
   "execution_count": null,
   "metadata": {},
   "outputs": [],
   "source": [
    "\"\"\"In fact, we see that the three generations (A+, Voyager, and NG) are qualitatively different\n",
    "with respect to every metric used in this study.\"\"\""
   ]
  },
  {
   "cell_type": "code",
   "execution_count": null,
   "metadata": {},
   "outputs": [],
   "source": []
  }
 ],
 "metadata": {
  "kernelspec": {
   "display_name": "Python 3 (ipykernel)",
   "language": "python",
   "name": "python3"
  },
  "language_info": {
   "codemirror_mode": {
    "name": "ipython",
    "version": 3
   },
   "file_extension": ".py",
   "mimetype": "text/x-python",
   "name": "python",
   "nbconvert_exporter": "python",
   "pygments_lexer": "ipython3",
   "version": "3.9.10"
  }
 },
 "nbformat": 4,
 "nbformat_minor": 4
}
