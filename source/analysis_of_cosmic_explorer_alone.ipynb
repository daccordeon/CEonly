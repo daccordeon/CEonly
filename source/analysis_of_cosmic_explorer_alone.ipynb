{
 "cells": [
  {
   "cell_type": "markdown",
   "metadata": {},
   "source": [
    "James Gardner, March 2022 "
   ]
  },
  {
   "cell_type": "markdown",
   "metadata": {},
   "source": [
    "want to analyse science case/s for CE only:\n",
    "\n",
    "CE-N 40km with CE-S 40km or 20km\n",
    "\n",
    "if done, then look at CE-S with one ET detector\n",
    "\n",
    "verify techniques by replicating *Borhanian and Sathya 2022*"
   ]
  },
  {
   "cell_type": "code",
   "execution_count": null,
   "metadata": {},
   "outputs": [],
   "source": [
    "%load_ext autoreload\n",
    "%autoreload 2\n",
    "\n",
    "from networks import *\n",
    "from detection_rates import *\n",
    "from measurement_errors import *\n",
    "from useful_functions import flatten_list\n",
    "from useful_plotting_functions import *\n",
    "\n",
    "# suppress warnings\n",
    "from warnings import filterwarnings\n",
    "filterwarnings('ignore')"
   ]
  },
  {
   "cell_type": "markdown",
   "metadata": {},
   "source": [
    "### Replicating Borhanian and Sathya 2022 injections and detection rates, then for CE only "
   ]
  },
  {
   "cell_type": "code",
   "execution_count": null,
   "metadata": {},
   "outputs": [],
   "source": [
    "# batch detection rate results for given science case and network set\n",
    "\n",
    "# waveform, LAL list: https://lscsoft.docs.ligo.org/lalsuite/lalsimulation/group___l_a_l_sim_inspiral__h.html\n",
    "# --- BNS ---\n",
    "# science_case = 'BNS'\n",
    "# wf_model_name, wf_other_var_dic = 'lal_bns', dict(approximant='IMRPhenomD_NRTidalv2') # for tidal, see https://arxiv.org/abs/1905.06011\n",
    "# to-do: missing dimensionless tidal parameters, calculate tidal parameters from sampled m1, m2 in injections.py? requires Love number and radii (i.e. choose an EoS)\n",
    "# --- BBH ---\n",
    "science_case = 'BBH'\n",
    "wf_model_name, wf_other_var_dic = 'lal_bbh', dict(approximant='IMRPhenomHM')\n",
    "# --- analytic waveforms ---\n",
    "# wf_model_name, wf_other_var_dic = 'tf2', None # to-do: stop using this once tidal params found\n",
    "# wf_model_name, wf_other_var_dic = 'tf2_tidal', None\n",
    "\n",
    "# number of injections per redshift bin (6 bins)\n",
    "num_injs = 10\n",
    "\n",
    "# network_spec_list = BS2022_STANDARD_6['nets']\n",
    "# network_spec_list = CE_ONLY['nets']\n",
    "network_spec_list = CE_S_W_ET['nets']\n",
    "\n",
    "for network_spec in tqdm(network_spec_list):\n",
    "    detection_rate_for_network_and_waveform(network_spec, science_case, wf_model_name, wf_other_var_dic, num_injs, show_fig=False, print_progress=False, print_reach=False)"
   ]
  },
  {
   "cell_type": "code",
   "execution_count": null,
   "metadata": {},
   "outputs": [],
   "source": [
    "# meta-batch to save all the required results (but not generate plots to save time) for the below cell\n",
    "network_spec_list = NET_LIST\n",
    "\n",
    "science_cases = ('BNS', 'BBH')\n",
    "# --- numerical BNS as in B&S2021 ---\n",
    "# wf_specifications = (('lal_bns', dict(approximant='IMRPhenomD_NRTidalv2')), ('lal_bbh', dict(approximant='IMRPhenomHM')))\n",
    "# --- analytic BNS ---\n",
    "wf_specifications = (('tf2_tidal', None), ('lal_bbh', dict(approximant='IMRPhenomHM')))\n",
    "\n",
    "# number of injections per redshift bin (6 bins), tuple over science cases (more for symbolic wf.'s than numerical)\n",
    "num_injs_list = (100, 10)\n",
    "\n",
    "for network_spec in tqdm(network_spec_list):\n",
    "    for j, science_case in enumerate(science_cases):\n",
    "        wf_model_name, wf_other_var_dic = wf_specifications[j]        \n",
    "        detection_rate_for_network_and_waveform(network_spec, science_case,\n",
    "                                                wf_model_name, wf_other_var_dic, num_injs_list[j],\n",
    "                                                generate_fig=True, show_fig=False,\n",
    "                                                print_progress=False, print_reach=False)"
   ]
  },
  {
   "cell_type": "markdown",
   "metadata": {},
   "source": [
    "### Collating different networks saved using the above method"
   ]
  },
  {
   "cell_type": "code",
   "execution_count": null,
   "metadata": {},
   "outputs": [],
   "source": [
    "# batch of six collated plots: all three network sets and two science cases\n",
    "# assumes results saved: above results generating cell must be run to save results for this cell\n",
    "\n",
    "# ! remember to update plot label for each case else the plot will be overwritten\n",
    "# how standard the \"standard 6\" are is unclear, seems like an invention of B&S2022\n",
    "# CE only, with 2G+ as a reference\n",
    "# CE South with one ET detector\n",
    "\n",
    "# adding HLVKI+ reference to CE nets\n",
    "network_dict_list = [NET_DICT_LIST[0],]\n",
    "network_sets = [net_dict['nets'] for net_dict in network_dict_list]\n",
    "#(BS2022_STANDARD_6['nets'],)\n",
    "#                 CE_ONLY_C_and_S['nets'] + [['A+_H', 'A+_L', 'V+_V', 'K+_K', 'A+_I']],\n",
    "#                 CE_ONLY_C_and_N['nets'] + [['A+_H', 'A+_L', 'V+_V', 'K+_K', 'A+_I']],\n",
    "#                 CE_S_W_ET['nets'] + [['A+_H', 'A+_L', 'V+_V', 'K+_K', 'A+_I']])\n",
    "network_labels = [net_dict['label'] for net_dict in network_dict_list]\n",
    "#('standard_6', 'CE_only_C..S', 'CE_only_C..N', 'ET..CE_S')\n",
    "science_cases = ('BNS', 'BBH')\n",
    "specific_wfs = ('tf2_tidal', None)\n",
    "\n",
    "for i, network_set in enumerate(network_sets):\n",
    "    for j, science_case in enumerate(science_cases):\n",
    "        plot_label = f'SCI-CASE_{science_case}_NET_{network_labels[i]}'\n",
    "        specific_wf = specific_wfs[j]\n",
    "        if specific_wf is not None:\n",
    "            plot_label += f'_WF_{specific_wf}'\n",
    "        compare_detection_rate_of_networks_from_saved_results(network_set, science_case, plot_label=plot_label, specific_wf=specific_wf, show_fig=False, data_path='data_20--200_injs/data_for_plots/') "
   ]
  },
  {
   "cell_type": "markdown",
   "metadata": {},
   "source": [
    "### Measurement errors"
   ]
  },
  {
   "cell_type": "code",
   "execution_count": null,
   "metadata": {},
   "outputs": [],
   "source": [
    "# B&S2022 plots cumulative density functions (CDF) versus redshift to show distribution of measurement errors (why not just use PDF, i.e. normalised histograms, like B2021?)\n",
    "# for non-SNR quantities only use results above an SNR threshold (e.g. 10), alternatively, for all non--sky area quantities only use results below a 90% credible sky area threshold (e.g. 4.4e-2 sqrDeg, where the full Moon is ~20.0e-2 sqrDeg given a radius of 0.5 deg) --> don't have enough resolution to attempt sky-area thresholding\n",
    "\n",
    "# batching collation of standard sets assuming results saved\n",
    "# compare plots to B&S2022 Figs 3 and 4\n",
    "\n",
    "network_dict_list = [NET_DICT_LIST[0],]\n",
    "network_sets = [net_dict['nets'] for net_dict in network_dict_list]\n",
    "network_labels = [net_dict['label'] for net_dict in network_dict_list]\n",
    "# network_sets = (BS2022_STANDARD_6['nets'],\n",
    "#                 CE_ONLY_C_and_S['nets'] + [['A+_H', 'A+_L', 'V+_V', 'K+_K', 'A+_I']],\n",
    "#                 CE_ONLY_C_and_N['nets'] + [['A+_H', 'A+_L', 'V+_V', 'K+_K', 'A+_I']],\n",
    "#                 CE_S_W_ET['nets'] + [['A+_H', 'A+_L', 'V+_V', 'K+_K', 'A+_I']])\n",
    "# network_labels = ('standard_6', 'CE_only_C..S', 'CE_only_C..N', 'ET_E..CE_S')\n",
    "science_cases = ('BNS', 'BBH')\n",
    "specific_wfs = ('tf2_tidal', None)\n",
    "\n",
    "for i, network_set in enumerate(tqdm(network_sets)):\n",
    "    for j, science_case in enumerate(science_cases):\n",
    "        plot_label = f'SCI-CASE_{science_case}_NETS_{network_labels[i]}'\n",
    "        plot_title = f'Science case: {science_case}, network set: {network_labels[i]}'\n",
    "        specific_wf = specific_wfs[j]\n",
    "        if specific_wf is not None:\n",
    "            plot_label += f'_WF_{specific_wf}'\n",
    "            plot_title += f', WF: {specific_wf}'\n",
    "        collate_measurement_errs_CDFs_of_networks(network_set, science_case, specific_wf=specific_wf, plot_label=plot_label, plot_title=plot_title, full_legend=False, print_progress=False, show_fig=False, normalise_count=True, xlim_list=None, threshold_by_SNR=True, CDFmin=1e-4, data_path='data_20--200_injs/data_for_plots/')\n",
    "#         # for reference, without SNR thresholding\n",
    "#         collate_measurement_errs_CDFs_of_networks(network_set, science_case, specific_wf=specific_wf, plot_label=plot_label+'_SNR-THR_False', plot_title=plot_title, full_legend=False, print_progress=False, show_fig=False, normalise_count=True, xlim_list=None, threshold_by_SNR=False)"
   ]
  },
  {
   "cell_type": "code",
   "execution_count": null,
   "metadata": {},
   "outputs": [],
   "source": [
    "# for direct comparison, use B&S2022's xlim_list \n",
    "# --- options ---\n",
    "net_dict, science_case, wf_model_name = BS2022_SIX, 'BNS', 'tf2_tidal'\n",
    "network_set, network_label = net_dict['nets'], net_dict['label']\n",
    "plot_label = f'NET_{network_label}_SCI-CASE_{science_case}_WF_{wf_model_name}'\n",
    "# plot_label = 'contoured'\n",
    "plot_title = f'Networks: {network_label}, science-case: {science_case}, waveform: {wf_model_name}'        \n",
    "ymin_CDF = 1e-4\n",
    "data_path='tmp_data/data_redshift_snr_errs_sky-area/'\n",
    "linestyles_from_BS2022 = True\n",
    "\n",
    "collate_measurement_errs_CDFs_of_networks(network_set, science_case, plot_label=plot_label, plot_title=plot_title, full_legend=False, print_progress=False, show_fig=False, normalise_count=True, threshold_by_SNR=True, CDFmin=ymin_CDF, data_path=data_path, num_bins=40, linestyles_from_BS2022=linestyles_from_BS2022, contour=False)\n",
    "# collate_measurement_errs_CDFs_of_networks(network_set, science_case, plot_label=plot_label+'_XLIMS_preset', plot_title=plot_title+', XLIMS: preset to B&S2022', full_legend=False, print_progress=False, show_fig=False, normalise_count=True, xlim_list='B&S2022', threshold_by_SNR=True, CDFmin=ymin_CDF, data_path=data_path, num_bins=40, linestyles_from_BS2022=linestyles_from_BS2022)"
   ]
  },
  {
   "cell_type": "markdown",
   "metadata": {},
   "source": [
    "### Sky localisation"
   ]
  },
  {
   "cell_type": "code",
   "execution_count": null,
   "metadata": {},
   "outputs": [],
   "source": [
    "# --- input parameters ---\n",
    "data_path = 'tmp_data/data_redshift_snr_errs_sky-area/'\n",
    "input_file_name = 'results_NET_CE-40-CBO_C..CE-20-PMO_N..CE-40-CBO_S_SCI-CASE_BNS_WF_tf2_tidal_INJS-PER-ZBIN_30000.npy'\n",
    "plot_title = file_name_to_multiline_readable(input_file_name)\n",
    "# file_name = 'results_NET_A+_H..A+_L..V+_V..K+_K..A+_I_SCI-CASE_BNS_WF_tf2_tidal_INJS-PER-ZBIN_30000.npy'\n",
    "output_path = 'plots/'\n",
    "output_file_name = 'sky_localisation.pdf'\n",
    "\n",
    "# loading\n",
    "results = np.load(data_path + input_file_name)\n",
    "\n",
    "z = results[:,0]\n",
    "snr = results[:,1]\n",
    "skyarea = results[:,6]\n",
    "\n",
    "# plotting\n",
    "good_colour = '#e84393'\n",
    "v_good_colour = '#00b894'\n",
    "\n",
    "plt.rcParams.update({'font.size': 14})\n",
    "fig, axs = plt.subplots(2, 1, sharex=True, figsize=(8, 12), gridspec_kw=dict(hspace=0.05))\n",
    "\n",
    "axs[0].axhspan(SNR_THRESHOLD_HI, max(snr), color=v_good_colour, alpha=0.5)\n",
    "axs[0].axhspan(SNR_THRESHOLD_LO, SNR_THRESHOLD_HI, color=good_colour, linestyle='-', alpha=0.5)\n",
    "axs[0].loglog(z, snr, ',')\n",
    "axs[0].set(ylabel=r'SNR, $\\rho$', ylim=(None, max(snr)))\n",
    "\n",
    "if max(skyarea) > TOTAL_SKY_AREA_SQR_DEG:\n",
    "    axs[1].axhspan(TOTAL_SKY_AREA_SQR_DEG, max(skyarea), color=(0,0,0,0.5))\n",
    "axs[1].loglog(z[snr < SNR_THRESHOLD_LO], skyarea[snr < SNR_THRESHOLD_LO], ',', color='#0984e3')\n",
    "axs[1].loglog(z[np.logical_and(SNR_THRESHOLD_LO < snr, snr < SNR_THRESHOLD_HI)], skyarea[np.logical_and(SNR_THRESHOLD_LO < snr, snr < SNR_THRESHOLD_HI)], ',', color=good_colour)\n",
    "axs[1].loglog(z[SNR_THRESHOLD_HI < snr], skyarea[SNR_THRESHOLD_HI < snr], ',', color=v_good_colour)\n",
    "axs[1].axhline(EM_FOLLOWUP_SKY_AREA_SQR_DEG, color='k', linewidth=1, label='follow-up\\nthreshold')\n",
    "axs[1].axhline(MOON_SKY_AREA_SQR_DEG, color='k', linestyle='--', linewidth=1, label='Moon')\n",
    "axs[1].set(ylabel=r'$\\Omega_{90}$ / deg${}^2$', xlabel='redshift, z', ylim=(None, max(skyarea)))\n",
    "axs[1].legend(handlelength=1)\n",
    "\n",
    "fig.suptitle(plot_title, y=0.9, verticalalignment='baseline')\n",
    "fig.align_labels()\n",
    "\n",
    "fig.canvas.draw()\n",
    "force_log_grid(axs[0])\n",
    "force_log_grid(axs[1])\n",
    "\n",
    "# fig.savefig(output_path + output_file_name, bbox_inches='tight')\n",
    "# # .pdf is 5 MB uncompressed, save as a .jpg for messaging (.png has a transparent background)\n",
    "# fig.savefig(output_path + output_file_name.replace('.pdf', '.jpg'), bbox_inches='tight')\n",
    "plt.show()"
   ]
  },
  {
   "cell_type": "code",
   "execution_count": null,
   "metadata": {},
   "outputs": [],
   "source": []
  },
  {
   "cell_type": "code",
   "execution_count": null,
   "metadata": {},
   "outputs": [],
   "source": []
  },
  {
   "cell_type": "markdown",
   "metadata": {},
   "source": [
    "### Following B&S2022 Section 4A: *Incorporation of redshift-dependent merger rates*"
   ]
  },
  {
   "cell_type": "code",
   "execution_count": null,
   "metadata": {},
   "outputs": [],
   "source": [
    "# first, check that can recover a 10-year observation merger population (see From_Ssohrab_BNS_population_vs_redshift.png)\n",
    "xlim, ylim = (1.7e-3, 5e1), (5e-1, 8e5)\n",
    "z_arr = np.geomspace(*xlim, 100)\n",
    "bns_rate_arr = np.array(parallel_map(merger_rate_bns, z_arr, parallel=True))\n",
    "bbh_rate_arr = np.array(parallel_map(merger_rate_bbh, z_arr, parallel=True))\n",
    "bns_obs_rate_arr = np.array(parallel_map(lambda z : merger_rate_in_obs_frame(merger_rate_bns, z), z_arr, parallel=True))\n",
    "bbh_obs_rate_arr = np.array(parallel_map(lambda z : merger_rate_in_obs_frame(merger_rate_bbh, z), z_arr, parallel=True))\n",
    "# merger rate R(z) in (count)/yr, multiply by number of years to get (count)\n",
    "observation_time_in_years = 10\n",
    "colour1, colour2 = 'r', 'b'\n",
    "\n",
    "plt.rcParams.update({'font.size': 14})\n",
    "fig, ax = plt.subplots(figsize=(7.8, 6))\n",
    "ax.loglog(z_arr, observation_time_in_years*bns_rate_arr, color=colour1, label='BNS source frame')\n",
    "ax.loglog(z_arr, observation_time_in_years*bns_obs_rate_arr, linestyle='--', color=colour1, label='BNS observer frame')\n",
    "ax.loglog(z_arr, observation_time_in_years*bbh_rate_arr, color=colour2, label='BBH source frame')\n",
    "ax.loglog(z_arr, observation_time_in_years*bbh_obs_rate_arr, linestyle='--', color=colour2, label='BBH observer frame')\n",
    "ax.set(xlabel='redshift, $z$', ylabel='10-year count', xlim=(1.7e-3, xlim[1]), ylim=ylim)\n",
    "ax.legend()\n",
    "force_log_grid(ax)\n",
    "ax.set_title('merger population')\n",
    "fig.savefig('plots/ten-year_population.pdf', bbox_inches='tight')\n",
    "plt.show()"
   ]
  },
  {
   "cell_type": "code",
   "execution_count": null,
   "metadata": {},
   "outputs": [],
   "source": [
    "# replicating section 4A\n",
    "from scipy.stats import rv_discrete\n",
    "\n",
    "zmin, zmax = 1e-2, 5e1\n",
    "# N in B&S2022, containing ~2000 injections from uniform sampler (varying due to randomness and linear sampling)\n",
    "num_subzbin = 150 \n",
    "subzbin = list(zip(np.geomspace(zmin, zmax, num_subzbin + 1)[:-1], np.geomspace(zmin, zmax, num_subzbin + 1)[1:]))\n",
    "# using geometric mean to find the log-centre of each bin\n",
    "subzbin_centres = [gmean(zbin) for zbin in subzbin]\n",
    "# using rate in the source frame like B&S2022, to-do: does this make sense if we're coutning observations? are we trying to emulate using a cosmological sampler originally?\n",
    "merger_rate_fns = (merger_rate_bns, lambda z : merger_rate_in_obs_frame(merger_rate_bns, z), merger_rate_bbh, lambda z : merger_rate_in_obs_frame(merger_rate_bbh, z))\n",
    "subzbin_merger_rates = [np.array(parallel_map(merger_rate, subzbin_centres, parallel=True)) for merger_rate in merger_rate_fns]\n",
    "subzbin_probabilities = [rate/rate.sum() for rate in subzbin_merger_rates]\n",
    "# n_i in B&S2022: sample i with probability p_i \"up to the desired number\" of mergers over 10 years\n",
    "# to-do: what is the \"desired [total, cosmological] number\" of mergers over the whole redshift range? do I fit it to the 10-year merger population?\n",
    "# integrating the merger rate in the *source* frame over the redshift range\n",
    "observation_time_in_years = 10\n",
    "num_draws_both = [int(observation_time_in_years*quad(merger_rate, 0, zmax)[0]) for merger_rate in merger_rate_fns]\n",
    "indicies_both = [rv_discrete(values=(range(num_subzbin), pdf)).rvs(size=num_draws_both[i]) for (i, pdf) in enumerate(subzbin_probabilities)]\n",
    "subzbin_num_samples = [np.array([np.sum(indicies == i) for i in range(num_subzbin)]) for indicies in indicies_both]\n",
    "\n",
    "# now sample n_i times from the saved data for each subzbin with index i \n",
    "# to-do: do it\n"
   ]
  },
  {
   "cell_type": "code",
   "execution_count": null,
   "metadata": {},
   "outputs": [],
   "source": [
    "xlim, ylim = (1.7e-3, 5e1), (5e-1, 8e5)\n",
    "colour1, colour2 = 'r', 'b'\n",
    "\n",
    "plt.rcParams.update({'font.size': 14})\n",
    "fig, ax = plt.subplots(figsize=(7.8, 6))\n",
    "widths = [zbin[1] - zbin[0] for zbin in subzbin]\n",
    "# where='mid' makes steps occur half (presumably arithmetic average) way between x values\n",
    "ax.step(subzbin_centres, subzbin_num_samples[0], color=colour1, where='mid', linewidth=1, label='BNS source frame')\n",
    "ax.step(subzbin_centres, subzbin_num_samples[1], color=colour1, linestyle='--', where='mid', linewidth=0.5, label='BNS observer frame')\n",
    "ax.step(subzbin_centres, subzbin_num_samples[2], color=colour2, where='mid', linewidth=1, label='BBH source frame')\n",
    "ax.step(subzbin_centres, subzbin_num_samples[3], color=colour2, linestyle='--', where='mid', linewidth=0.5, label='BBH observer frame')\n",
    "ax.set(xscale='log', yscale='log')\n",
    "#ax.loglog(subzbin_centres, subzbin_num_samples[0], '.', color='r')\n",
    "ax.set(xlabel='redshift, $z$', ylabel='10-year count', xlim=(1.7e-3, xlim[1]), ylim=ylim)\n",
    "ax.legend()\n",
    "ax.set_title('merger population sampled')\n",
    "force_log_grid(ax)        \n",
    "fig.savefig('plots/ten-year_population_sampled.pdf', bbox_inches='tight')\n",
    "plt.show()"
   ]
  },
  {
   "cell_type": "code",
   "execution_count": null,
   "metadata": {},
   "outputs": [],
   "source": []
  },
  {
   "cell_type": "markdown",
   "metadata": {},
   "source": [
    "###  To-do list"
   ]
  },
  {
   "cell_type": "code",
   "execution_count": null,
   "metadata": {},
   "outputs": [],
   "source": [
    "# to-do: stop CE alone being ill-conditioned, seems to work for BBH numeric wf --> get latest patch from Borhanian\n",
    "# to-do: fix BNS numerical waveform, current error \"numpy.linalg.LinAlgError: Array must not contain infs or NaNs\" with HLVKI+ --> see above"
   ]
  },
  {
   "cell_type": "code",
   "execution_count": null,
   "metadata": {},
   "outputs": [],
   "source": [
    "# to-do: change sigmoid fits to global optimisation to avoid needing the initial guesses in B&S2022, this is not possible with scipy, need to write my own or source a global curve fitting (apparantly a non-trivial problem)"
   ]
  },
  {
   "cell_type": "code",
   "execution_count": null,
   "metadata": {},
   "outputs": [],
   "source": [
    "# to-do: refactor two plotting functions \n",
    "# to-do: tidy up refactoring, reduce total number of arguments with unpacking?"
   ]
  },
  {
   "cell_type": "code",
   "execution_count": null,
   "metadata": {},
   "outputs": [],
   "source": [
    "\"\"\"In fact, we see that the three generations (A+, Voyager, and NG) are qualitatively different\n",
    "with respect to every metric used in this study.\"\"\""
   ]
  }
 ],
 "metadata": {
  "kernelspec": {
   "display_name": "Python 3 (ipykernel)",
   "language": "python",
   "name": "python3"
  },
  "language_info": {
   "codemirror_mode": {
    "name": "ipython",
    "version": 3
   },
   "file_extension": ".py",
   "mimetype": "text/x-python",
   "name": "python",
   "nbconvert_exporter": "python",
   "pygments_lexer": "ipython3",
   "version": "3.8.5"
  }
 },
 "nbformat": 4,
 "nbformat_minor": 4
}
