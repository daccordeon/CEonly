{
 "cells": [
  {
   "cell_type": "markdown",
   "id": "14655fc9",
   "metadata": {},
   "source": [
    "```\n",
    "Guide to using the codebase to generate results and plots.\n",
    "\n",
    "Usage: \n",
    "    Execute notebook or read through markdown below.\n",
    "\n",
    "License:\n",
    "    BSD 3-Clause License\n",
    "\n",
    "    Copyright (c) 2022, James Gardner.\n",
    "    All rights reserved except for those for the gwbench code which remain reserved\n",
    "    by S. Borhanian; the gwbench code is included in this repository for convenience.\n",
    "\n",
    "    Redistribution and use in source and binary forms, with or without\n",
    "    modification, are permitted provided that the following conditions are met:\n",
    "\n",
    "    1. Redistributions of source code must retain the above copyright notice, this\n",
    "       list of conditions and the following disclaimer.\n",
    "\n",
    "    2. Redistributions in binary form must reproduce the above copyright notice,\n",
    "       this list of conditions and the following disclaimer in the documentation\n",
    "       and/or other materials provided with the distribution.\n",
    "\n",
    "    3. Neither the name of the copyright holder nor the names of its\n",
    "       contributors may be used to endorse or promote products derived from\n",
    "       this software without specific prior written permission.\n",
    "\n",
    "    THIS SOFTWARE IS PROVIDED BY THE COPYRIGHT HOLDERS AND CONTRIBUTORS \"AS IS\"\n",
    "    AND ANY EXPRESS OR IMPLIED WARRANTIES, INCLUDING, BUT NOT LIMITED TO, THE\n",
    "    IMPLIED WARRANTIES OF MERCHANTABILITY AND FITNESS FOR A PARTICULAR PURPOSE ARE\n",
    "    DISCLAIMED. IN NO EVENT SHALL THE COPYRIGHT HOLDER OR CONTRIBUTORS BE LIABLE\n",
    "    FOR ANY DIRECT, INDIRECT, INCIDENTAL, SPECIAL, EXEMPLARY, OR CONSEQUENTIAL\n",
    "    DAMAGES (INCLUDING, BUT NOT LIMITED TO, PROCUREMENT OF SUBSTITUTE GOODS OR\n",
    "    SERVICES; LOSS OF USE, DATA, OR PROFITS; OR BUSINESS INTERRUPTION) HOWEVER\n",
    "    CAUSED AND ON ANY THEORY OF LIABILITY, WHETHER IN CONTRACT, STRICT LIABILITY,\n",
    "    OR TORT (INCLUDING NEGLIGENCE OR OTHERWISE) ARISING IN ANY WAY OUT OF THE USE\n",
    "    OF THIS SOFTWARE, EVEN IF ADVISED OF THE POSSIBILITY OF SUCH DAMAGE.\n",
    "```"
   ]
  },
  {
   "cell_type": "markdown",
   "id": "b69b42d0",
   "metadata": {},
   "source": [
    "# Guide to using codebase\n",
    "\n",
    "This notebook explains how to use this codebase on OzStar to generate all the results and plots to compare different networks of gravitational-wave detectors.\n",
    "\n",
    "Using %%bash magic inside Jupyter, however, does not have access to local bash aliases."
   ]
  },
  {
   "cell_type": "code",
   "execution_count": null,
   "id": "d3297e7d",
   "metadata": {},
   "outputs": [],
   "source": [
    "%%bash\n",
    "echo Hello World"
   ]
  },
  {
   "cell_type": "code",
   "execution_count": null,
   "id": "3fd25484",
   "metadata": {},
   "outputs": [],
   "source": [
    "%%bash\n",
    "lt"
   ]
  },
  {
   "cell_type": "markdown",
   "id": "3b949085",
   "metadata": {},
   "source": [
    "Instead have these directories always exist? Stop defining default paths in terms of my subsystem?"
   ]
  },
  {
   "cell_type": "code",
   "execution_count": null,
   "id": "833186da",
   "metadata": {},
   "outputs": [],
   "source": [
    "%%bash\n",
    "mkdir data_cosmologically_resampled_processed_injections\n",
    "mkdir data_processed_injections\n",
    "mkdir data_raw_injections\n",
    "mkdir lambdified_functions\n",
    "mkdir plots\n",
    "mkdir slurm_output_files"
   ]
  },
  {
   "cell_type": "code",
   "execution_count": null,
   "id": "9fe9a558",
   "metadata": {},
   "outputs": [],
   "source": []
  },
  {
   "cell_type": "markdown",
   "id": "ee01fdac",
   "metadata": {},
   "source": [
    "To replicate the results and plot them:\n",
    "- Execute sbatch job_scripts/job_run_all_networks_injections_at_scale.sh (job_scripts/job_run_all_networks_injections_at_scale_on_sstar.sh) on OzStar's farnarkle 1/2 (sstar) login node\n",
    "    - This calls run_injections_for_network_id.py over each combinatation of network and science case (with a unique waveform per science case) for a number of primitively parallel tasks\n",
    "    - This calls calculate_injections.py which initialises the network, generates the injections, and then benchmarks them by calling basic_benchmarking.py which uses gwbench. If symbolic waveforms are used, then their derivatives should first be generated and saved into lambdified_functions by executing python3 run_generate_symbolic_derivatives_for_all_locations.py. The results from each primitively parallel task are saved as .npy files in data_redshift_snr_errs_sky-area.\n",
    "- Execute python3 merge_npy_files.py to combine the task files into one .npy data file for each combination of network and science case.\n",
    "- During the injections, the following modules are used:\n",
    "    - constants.py to define physical constants, known/measured values, and thresholds\n",
    "    - filename_search_and_manipulation.py to manipulate the labels of the networks and data files\n",
    "    - merger_and_detection_rates.py to define the cosmological merger rates\n",
    "    - networks.py to list all studied networks\n",
    "    - network_subclass.py to add commonly requested attributes to gwbench's Network class\n",
    "    - useful_functions.py to define some commonly used functions, e.g. the 3-parameter sigmoid\n",
    "- To then generate all of the plots into the plots directory, execute sbatch job_plot_detection_rate_and_measurement_errors.sh which calls plot_collated_detection_rate.py and plot_collated_PDFs_and_CDFs.py from the .npy data files loaded in a results class instance defined in  results_class.py.\n",
    "- Asides from the above modules, the following are additionally used:\n",
    "    - cosmological_redshift_resampler.py to resample the linearly uniformly sampled redshifts using a cosmological model\n",
    "    - useful_plotting_functions.py to define some commonly used plotting functions\n",
    "- All other files are non-critical and used for testing, e.g. profiling the memory usage of other processes"
   ]
  },
  {
   "cell_type": "code",
   "execution_count": null,
   "id": "6dc0c300",
   "metadata": {},
   "outputs": [],
   "source": []
  }
 ],
 "metadata": {
  "kernelspec": {
   "display_name": "Python 3 (ipykernel)",
   "language": "python",
   "name": "python3"
  },
  "language_info": {
   "codemirror_mode": {
    "name": "ipython",
    "version": 3
   },
   "file_extension": ".py",
   "mimetype": "text/x-python",
   "name": "python",
   "nbconvert_exporter": "python",
   "pygments_lexer": "ipython3",
   "version": "3.8.5"
  }
 },
 "nbformat": 4,
 "nbformat_minor": 5
}
