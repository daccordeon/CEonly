{
 "cells": [
  {
   "cell_type": "markdown",
   "id": "14655fc9",
   "metadata": {},
   "source": [
    "```\n",
    "Guide to using the codebase to generate results and plots.\n",
    "\n",
    "Usage: \n",
    "    Execute notebook or read through markdown below.\n",
    "\n",
    "License:\n",
    "    BSD 3-Clause License\n",
    "\n",
    "    Copyright (c) 2022, James Gardner.\n",
    "    All rights reserved except for those for the gwbench code which remain reserved\n",
    "    by S. Borhanian; the gwbench code is included in this repository for convenience.\n",
    "\n",
    "    Redistribution and use in source and binary forms, with or without\n",
    "    modification, are permitted provided that the following conditions are met:\n",
    "\n",
    "    1. Redistributions of source code must retain the above copyright notice, this\n",
    "       list of conditions and the following disclaimer.\n",
    "\n",
    "    2. Redistributions in binary form must reproduce the above copyright notice,\n",
    "       this list of conditions and the following disclaimer in the documentation\n",
    "       and/or other materials provided with the distribution.\n",
    "\n",
    "    3. Neither the name of the copyright holder nor the names of its\n",
    "       contributors may be used to endorse or promote products derived from\n",
    "       this software without specific prior written permission.\n",
    "\n",
    "    THIS SOFTWARE IS PROVIDED BY THE COPYRIGHT HOLDERS AND CONTRIBUTORS \"AS IS\"\n",
    "    AND ANY EXPRESS OR IMPLIED WARRANTIES, INCLUDING, BUT NOT LIMITED TO, THE\n",
    "    IMPLIED WARRANTIES OF MERCHANTABILITY AND FITNESS FOR A PARTICULAR PURPOSE ARE\n",
    "    DISCLAIMED. IN NO EVENT SHALL THE COPYRIGHT HOLDER OR CONTRIBUTORS BE LIABLE\n",
    "    FOR ANY DIRECT, INDIRECT, INCIDENTAL, SPECIAL, EXEMPLARY, OR CONSEQUENTIAL\n",
    "    DAMAGES (INCLUDING, BUT NOT LIMITED TO, PROCUREMENT OF SUBSTITUTE GOODS OR\n",
    "    SERVICES; LOSS OF USE, DATA, OR PROFITS; OR BUSINESS INTERRUPTION) HOWEVER\n",
    "    CAUSED AND ON ANY THEORY OF LIABILITY, WHETHER IN CONTRACT, STRICT LIABILITY,\n",
    "    OR TORT (INCLUDING NEGLIGENCE OR OTHERWISE) ARISING IN ANY WAY OUT OF THE USE\n",
    "    OF THIS SOFTWARE, EVEN IF ADVISED OF THE POSSIBILITY OF SUCH DAMAGE.\n",
    "```"
   ]
  },
  {
   "cell_type": "markdown",
   "id": "b69b42d0",
   "metadata": {},
   "source": [
    "# Guide to using codebase\n",
    "\n",
    "This notebook explains how to use this codebase on OzStar to generate all the results and plots to compare different networks of gravitational-wave detectors.\n",
    "\n",
    "Using %%bash magic inside Jupyter, however, does not have access to local bash aliases."
   ]
  },
  {
   "cell_type": "code",
   "execution_count": null,
   "id": "d3297e7d",
   "metadata": {},
   "outputs": [],
   "source": [
    "%%bash\n",
    "echo Hello World"
   ]
  },
  {
   "cell_type": "code",
   "execution_count": null,
   "id": "3fd25484",
   "metadata": {},
   "outputs": [],
   "source": [
    "%%bash\n",
    "lt"
   ]
  },
  {
   "cell_type": "markdown",
   "id": "3b949085",
   "metadata": {},
   "source": [
    "Instead have these directories always exist? Stop defining default paths in terms of my subsystem?"
   ]
  },
  {
   "cell_type": "code",
   "execution_count": null,
   "id": "833186da",
   "metadata": {},
   "outputs": [],
   "source": [
    "%%bash\n",
    "mkdir data_cosmologically_resampled_processed_injections\n",
    "mkdir data_processed_injections\n",
    "mkdir data_raw_injections\n",
    "mkdir lambdified_functions\n",
    "mkdir plots\n",
    "mkdir slurm_output_files"
   ]
  }
 ],
 "metadata": {
  "kernelspec": {
   "display_name": "Python 3 (ipykernel)",
   "language": "python",
   "name": "python3"
  },
  "language_info": {
   "codemirror_mode": {
    "name": "ipython",
    "version": 3
   },
   "file_extension": ".py",
   "mimetype": "text/x-python",
   "name": "python",
   "nbconvert_exporter": "python",
   "pygments_lexer": "ipython3",
   "version": "3.8.5"
  }
 },
 "nbformat": 4,
 "nbformat_minor": 5
}
