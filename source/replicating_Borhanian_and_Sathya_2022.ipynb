{
 "cells": [
  {
   "cell_type": "markdown",
   "metadata": {},
   "source": [
    "James Gardner, 2022 "
   ]
  },
  {
   "cell_type": "markdown",
   "metadata": {},
   "source": [
    "want to analyse science case/s for CE only:\n",
    "\n",
    "CE-N 40km with CE-S 40km or 20km\n",
    "\n",
    "if done, then look at CE-S with one ET detector"
   ]
  },
  {
   "cell_type": "code",
   "execution_count": null,
   "metadata": {},
   "outputs": [],
   "source": [
    "from benchmarking import *"
   ]
  },
  {
   "cell_type": "markdown",
   "metadata": {},
   "source": [
    "### Replicating Borhanian and Sathya 2022 injections and detection rates, then for CE only "
   ]
  },
  {
   "cell_type": "code",
   "execution_count": null,
   "metadata": {},
   "outputs": [],
   "source": [
    "# structure: network, injection loop (inj, benchmark, save data), plot snr histogram, ...\n",
    "# ... calculate efficiency, calculate detection rate\n",
    "\n",
    "# try for this network, then CE only (refer to App E for CE discussion), compare to other five in Section 2a?\n",
    "# --- HLVKI+ ---\n",
    "network_spec = ['A+_H', 'A+_L', 'V+_V', 'K+_K', 'A+_I']\n",
    "locs = [x[-1] for x in network_spec]\n",
    "net = network.Network(network_spec)\n",
    "\n",
    "# --- BNS ---\n",
    "# waveform, LAL list: https://lscsoft.docs.ligo.org/lalsuite/lalsimulation/group___l_a_l_sim_inspiral__h.html\n",
    "# wf_model_name = 'lal_bns'\n",
    "# wf_other_var_dic = dict(approximant='IMRPhenomD_NRTidalv2') # for tidal, see https://arxiv.org/abs/1905.06011\n",
    "# to-do: fix \"TypeError: hfpc() missing 2 required positional arguments: 'lam_t' and 'delta_lam_t'\"\n",
    "# --> calculate tidal parameters from sampled m1, m2 in injections.py? requires Love number and radii (i.e. choose an EoS)\n",
    "wf_model_name, wf_other_var_dic = 'tf2_tidal', None # to-do: stop using this once tidal params found\n",
    "net.set_wf_vars(wf_model_name=wf_model_name, wf_other_var_dic=wf_other_var_dic)\n",
    "# injection settings - source\n",
    "mass_dict = dict(dist='gaussian', mean=1.35, sigma=0.15, mmin=1, mmax=2)\n",
    "spin_dict = dict(geom='cartesian', dim=1, chi_lo=-0.05, chi_hi=0.05)\n",
    "# zmin, zmax, seed (use same seeds to replicate results)\n",
    "redshift_bins = ((0, 0.5, 7669), (0.5, 1, 3103), (1, 2, 4431), (2, 4, 5526), (4, 10, 7035), (10, 50, 2785))\n",
    "coeff_fisco = 4 # fmax = 4*fisco for BNS, 8*fisco for BBH\n",
    "\n",
    "base_params = {\n",
    "    'tc':    0,\n",
    "    'phic':  0,\n",
    "    'gmst0': 0, # assume zero given B2021\n",
    "    'lam_t': 800, # combined dimensionless tidal deformability, 800 for GW170817, to-do: figure out\n",
    "    'delta_lam_t': 0, # assuming zero but can be calculated if m1, m2, Love number, and EoS (i.e. radii) known\n",
    "}\n",
    "\n",
    "# derivative settings\n",
    "# assign with respect to which parameters to take derivatives for the FIM\n",
    "deriv_symbs_string = 'Mc eta DL tc phic iota ra dec psi'\n",
    "# assign which parameters to convert to log or cos versions for differentiation\n",
    "conv_cos = ('dec', 'iota')\n",
    "conv_log = ('Mc', 'DL', 'lam_t')\n",
    "numerical_deriv_settings = dict(step=1e-9, method='central', order=2, n=1) # default\n",
    "\n",
    "# network settings: whether to include Earth's rotation and individual detector calculations\n",
    "use_rot = 1\n",
    "only_net = 1\n",
    "\n",
    "# injection settings - other: number of injections per redshift bin (over 6 bins)\n",
    "num_injs = 100 # start with 10, then build to 1e6 (how did they compute 1e6 with numerical derivs?)\n",
    "redshifted = 1 # whether sample masses already redshifted wrt z\n",
    "if wf_other_var_dic is not None:\n",
    "    file_tag = f'NET_{net.label}_WF_{wf_model_name}_{wf_other_var_dic[\"approximant\"]}_NUM-INJS_{num_injs}'\n",
    "    human_file_tag = f'network: {net.label.replace(\"..\", \", \")}\\nwaveform: {wf_model_name} with {wf_other_var_dic[\"approximant\"]}\\nnumber of injections per bin: {num_injs}'\n",
    "else:\n",
    "    file_tag = f'NET_{net.label}_WF_{wf_model_name}_NUM-INJS_{num_injs}'\n",
    "    human_file_tag = f'network: {net.label.replace(\"..\", \", \")}\\nwaveform: {wf_model_name}\\nnumber of injections per bin: {num_injs}'    \n",
    "    \n",
    "# if tf2 or tf2_tidal used\n",
    "generate_symbolic_derivatives(wf_model_name, wf_other_var_dic, deriv_symbs_string, locs, use_rot)"
   ]
  },
  {
   "cell_type": "code",
   "execution_count": null,
   "metadata": {},
   "outputs": [],
   "source": [
    "# injection and benchmarking\n",
    "# concatenate injection data from different bins\n",
    "inj_data = np.empty((len(redshift_bins)*num_injs, 14))\n",
    "for i, (zmin, zmax, seed) in enumerate(redshift_bins):\n",
    "    cosmo_dict = dict(sampler='uniform', zmin=zmin, zmax=zmax)\n",
    "    # transposed array to get [[Mc0, eta0, ..., z0], [Mc1, eta1, ..., z1], ...]\n",
    "    # [Mc, eta, chi1x, chi1y, chi1z, chi2x, chi2y, chi2z, DL, iota, ra, dec, psi, z]    \n",
    "    inj_data[i*num_injs:(i+1)*num_injs] = np.array(injections.injections_CBC_params_redshift(cosmo_dict, mass_dict, spin_dict, redshifted, num_injs=num_injs, seed=seed)).transpose()\n",
    "\n",
    "def calculate_benchmark_from_injection(inj):\n",
    "    \"\"\"given a 14-array of [Mc, eta, chi1x, chi1y, chi1z, chi2x, chi2y, chi2z, DL, iota, ra, dec, psi, z],\n",
    "    returns a 7-tuple of the\n",
    "    * redshift z,\n",
    "    * integrated snr,\n",
    "    * fractional Mc and DL and absolute eta and iota errors,\n",
    "    * 90% sky area.\n",
    "    sigma_log(Mc) = sigma_Mc/Mc is fractional error in Mc and similarly for DL, sigma_eta is absolute,\n",
    "    while |sigma_cos(iota)| = |sigma_iota*sin(iota)| --> error in iota requires rescaling from output\"\"\"\n",
    "    varied_keys = ['Mc', 'eta', 'chi1x', 'chi1y', 'chi1z', 'chi2x', 'chi2y', 'chi2z', 'DL', 'iota', 'ra', 'dec', 'psi', 'z']\n",
    "    varied_params = dict(zip(varied_keys, inj))\n",
    "    z = varied_params.pop('z')\n",
    "    Mc, eta, iota = varied_params['Mc'], varied_params['eta'], varied_params['iota']\n",
    "    \n",
    "    Mtot = Mc/eta**0.6\n",
    "    #fisco = (6**1.5*PI*Mtot)**-1 # missing some number of Msun, c=1, G=1 factors\n",
    "    fisco = 4.4/Mtot*1e3 # Hz # from https://arxiv.org/pdf/2011.05145.pdf\n",
    "    fmin, fmax, df = 5., float(min(coeff_fisco*fisco, 1024)), 10 # df=1/16 (fine) \n",
    "    f = np.arange(fmin, fmax, df)\n",
    "\n",
    "    # net_copy is automatically deleted once out of scope (is copying necessary with Pool()?)\n",
    "    net_copy = deepcopy(net)\n",
    "    inj_params = dict(**base_params, **varied_params)\n",
    "    net_copy.set_net_vars(f=f, inj_params=inj_params, deriv_symbs_string=deriv_symbs_string,\n",
    "                          conv_cos=conv_cos, conv_log=conv_log, use_rot=use_rot)\n",
    "\n",
    "    basic_network_benchmarking(net_copy, numerical_over_symbolic_derivs=False, only_net=only_net,\n",
    "                               numerical_deriv_settings=numerical_deriv_settings, hide_prints=True)\n",
    "\n",
    "    if net_copy.wc_fisher:\n",
    "        # convert sigma_cos(iota) into sigma_iota\n",
    "        abs_err_iota = abs(net_copy.errs['cos_iota']/np.sin(iota))\n",
    "        return (z, net_copy.snr, net_copy.errs['log_Mc'], net_copy.errs['log_DL'], net_copy.errs['eta'],\n",
    "                abs_err_iota, net_copy.errs['sky_area_90'])\n",
    "    else:\n",
    "        # to-do: check if CE only is still ill-conditioned\n",
    "        return (z, *np.full(6, np.nan))"
   ]
  },
  {
   "cell_type": "code",
   "execution_count": null,
   "metadata": {},
   "outputs": [],
   "source": [
    "# calculate results: z, snr, errs (logMc, logDL, eta, iota), sky area\n",
    "# p_umap is unordered in redshift for greater speed (check)\n",
    "results = np.array(p_umap(calculate_benchmark_from_injection, inj_data, num_cpus=os.cpu_count()-1))\n",
    "# filter out NaNs\n",
    "results = without_rows_w_nan(results)\n",
    "if len(results) == 0:\n",
    "    print('All values are NaN, FIM is ill-conditioned.')\n",
    "np.save(f'data_B&S2022_replication/results_{file_tag}.npy', results)"
   ]
  },
  {
   "cell_type": "code",
   "execution_count": null,
   "metadata": {},
   "outputs": [],
   "source": [
    "results = np.load(f'data_B&S2022_replication/results_{file_tag}.npy')"
   ]
  },
  {
   "cell_type": "code",
   "execution_count": null,
   "metadata": {},
   "outputs": [],
   "source": [
    "# count efficiency over sources in (z, z+Delta_z) for z=0.01 to 50\n",
    "zmin_plot, zmax_plot, num_zbins_fine = 1e-2, 50, 20\n",
    "redshift_bins_fine = list(zip(np.geomspace(zmin_plot, zmax_plot, num_zbins_fine)[:-1],\n",
    "                              np.geomspace(zmin_plot, zmax_plot, num_zbins_fine)[1:])) # redshift_bins are too wide\n",
    "zavg_efflo_effhi = np.empty((len(redshift_bins_fine), 3))\n",
    "for i, (zmin, zmax) in enumerate(redshift_bins_fine):\n",
    "    z_snr_in_bin = results[:,0:2][np.logical_and(zmin < results[:,0], results[:,0] < zmax)]\n",
    "    zavg_efflo_effhi[i,0] = np.mean(z_snr_in_bin[:,0]) # maybe should be gmean because z plotted logarithmically?\n",
    "    zavg_efflo_effhi[i,1] = np.mean(z_snr_in_bin[:,1] > SNR_THRESHOLD_LO)\n",
    "    zavg_efflo_effhi[i,2] = np.mean(z_snr_in_bin[:,1] > SNR_THRESHOLD_HI)\n",
    "\n",
    "# plotting\n",
    "plt.rcParams.update({'font.size': 14})\n",
    "fig, axs = plt.subplots(2, 1, sharex=True, figsize=(6, 8), gridspec_kw={'wspace':0, 'hspace':0.05})\n",
    "\n",
    "# snr vs redshift\n",
    "# use integrated SNR rho from standard benchmarking, not sure if B&S2022 use matched filter\n",
    "axs[0].loglog(results[:,0], results[:,1], '.')\n",
    "axs[0].axhspan(0, SNR_THRESHOLD_LO, alpha=0.5, color='lightgrey')\n",
    "axs[0].axhspan(0, SNR_THRESHOLD_HI, alpha=0.25, color='lightgrey')\n",
    "axs[0].set_ylabel(r'integrated SNR, $\\rho$')\n",
    "axs[0].set_title(human_file_tag, fontsize=14)\n",
    "\n",
    "# efficiency vs redshift\n",
    "axs[1].axhline(0, color='grey', linewidth=0.5)\n",
    "axs[1].axhline(1, color='grey', linewidth=0.5)\n",
    "axs[1].plot(zavg_efflo_effhi[:,0], zavg_efflo_effhi[:,1], 'o', color='darkred', label=fr'$\\rho$ > {SNR_THRESHOLD_LO}')\n",
    "axs[1].plot(zavg_efflo_effhi[:,0], zavg_efflo_effhi[:,2], 's', color='darkred', label=fr'$\\rho$ > {SNR_THRESHOLD_HI}')\n",
    "axs[1].legend()\n",
    "axs[1].set_ylim((0-0.05, 1+0.05))\n",
    "axs[1].set_ylabel(r'detection efficiency, $\\varepsilon$')\n",
    "axs[1].set_xscale('log')\n",
    "axs[1].set_xlim((1e-2, 50))\n",
    "axs[1].xaxis.set_minor_locator(plt.LogLocator(base=10.0, subs=0.1*np.arange(1, 10), numticks=10))\n",
    "axs[1].xaxis.set_minor_formatter(plt.NullFormatter())\n",
    "axs[1].set_xlabel('redshift, z')\n",
    "\n",
    "fig.savefig(f'snr_vs_redshift_{file_tag}.pdf', bbox_inches='tight')\n",
    "plt.show(fig)\n",
    "plt.close(fig)"
   ]
  },
  {
   "cell_type": "code",
   "execution_count": null,
   "metadata": {},
   "outputs": [],
   "source": []
  },
  {
   "cell_type": "code",
   "execution_count": null,
   "metadata": {},
   "outputs": [],
   "source": [
    "# to-do: decouple (z, z+dz) bins to plot efficiency from injection redshift bins (the latter are too wide)"
   ]
  },
  {
   "cell_type": "code",
   "execution_count": null,
   "metadata": {},
   "outputs": [],
   "source": [
    "# to-do: increase sampling below 4e-2, but App A uses (0, 0.5, seed)?"
   ]
  },
  {
   "cell_type": "code",
   "execution_count": null,
   "metadata": {},
   "outputs": [],
   "source": []
  },
  {
   "cell_type": "code",
   "execution_count": null,
   "metadata": {},
   "outputs": [],
   "source": [
    "# detection efficiency\n",
    "det_eff = lambda z, snr_threshold : ?\n",
    "\n",
    "# detection rate integrand\n",
    "det_rate_integrand = lambda z, snr_threshold : det_eff(z, snr_threshold)*injections.bns_md_merger_rate(z)/(1+z)\n",
    "\n",
    "# detection rate\n",
    "det_rate = lambda z0, snr_threshold : scipy.integrate.quad(lambda z : det_rate_integrand(z, snr_threshold), 0, z0)\n",
    "\n",
    "import scipy.integrate"
   ]
  },
  {
   "cell_type": "code",
   "execution_count": null,
   "metadata": {},
   "outputs": [],
   "source": [
    "# to-do: pass injection data to benchmarking, then calculate a detection rate!\n",
    "# injections.bns_md_merger_rate(0) # from z=0 outwards\n",
    "plt.rcParams.update({'font.size': 14})\n",
    "fig, ax = plt.subplots()\n",
    "zarr = np.logspace(np.log10(1e-2), np.log10(50), 100)\n",
    "ax.plot(zarr, list(map(injections.bns_md_merger_rate, zarr)))\n",
    "ax.set_xscale('log')\n",
    "ax.set_xlim((1e-2, 50))\n",
    "ax.set(xlabel='redshift, z', ylabel=r'merger rate / $\\mathrm{Gpc}^{-3} \\mathrm{yr}^{-1}$') # check units?\n",
    "plt.show(fig)\n",
    "plt.close(fig)"
   ]
  },
  {
   "cell_type": "code",
   "execution_count": null,
   "metadata": {},
   "outputs": [],
   "source": []
  },
  {
   "cell_type": "code",
   "execution_count": null,
   "metadata": {},
   "outputs": [],
   "source": [
    "# to-do: fit three-parameter sigmoids to efficiency curves vs redshift"
   ]
  },
  {
   "cell_type": "code",
   "execution_count": null,
   "metadata": {},
   "outputs": [],
   "source": [
    "# to-do: study BBH science case as well"
   ]
  },
  {
   "cell_type": "code",
   "execution_count": null,
   "metadata": {},
   "outputs": [],
   "source": [
    "\"\"\"In fact, we see that the three generations (A+, Voyager, and NG) are qualitatively different\n",
    "with respect to every metric used in this study.\"\"\""
   ]
  },
  {
   "cell_type": "code",
   "execution_count": null,
   "metadata": {},
   "outputs": [],
   "source": []
  }
 ],
 "metadata": {
  "kernelspec": {
   "display_name": "Python 3 (ipykernel)",
   "language": "python",
   "name": "python3"
  },
  "language_info": {
   "codemirror_mode": {
    "name": "ipython",
    "version": 3
   },
   "file_extension": ".py",
   "mimetype": "text/x-python",
   "name": "python",
   "nbconvert_exporter": "python",
   "pygments_lexer": "ipython3",
   "version": "3.9.10"
  }
 },
 "nbformat": 4,
 "nbformat_minor": 4
}
