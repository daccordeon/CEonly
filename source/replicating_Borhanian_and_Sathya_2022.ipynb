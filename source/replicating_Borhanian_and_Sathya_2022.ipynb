{
 "cells": [
  {
   "cell_type": "markdown",
   "metadata": {},
   "source": [
    "James Gardner, 2022 "
   ]
  },
  {
   "cell_type": "markdown",
   "metadata": {},
   "source": [
    "want to analyse science case/s for CE only:\n",
    "\n",
    "CE-N 40km with CE-S 40km or 20km\n",
    "\n",
    "if done, then look at CE-S with one ET detector"
   ]
  },
  {
   "cell_type": "code",
   "execution_count": 96,
   "metadata": {},
   "outputs": [],
   "source": [
    "from benchmarking import *\n",
    "from gwbench.basic_relations import f_isco_Msolar\n",
    "\n",
    "from scipy.stats import gmean\n",
    "from scipy.optimize import curve_fit\n",
    "from scipy.integrate import quad\n",
    "from astropy.cosmology import Planck18\n",
    "from p_tqdm import p_map\n",
    "\n",
    "# # suppress warnings\n",
    "# from warnings import filterwarnings\n",
    "# filterwarnings('ignore')"
   ]
  },
  {
   "cell_type": "markdown",
   "metadata": {},
   "source": [
    "### Replicating Borhanian and Sathya 2022 injections and detection rates, then for CE only "
   ]
  },
  {
   "cell_type": "code",
   "execution_count": 2,
   "metadata": {},
   "outputs": [
    {
     "name": "stdout",
     "output_type": "stream",
     "text": [
      "All lambdified derivatives already exist.\n"
     ]
    }
   ],
   "source": [
    "# structure: network, injection loop (inj, benchmark, save data), plot snr histogram, ...\n",
    "# ... calculate efficiency, calculate detection rate\n",
    "\n",
    "# try for this network, then CE only (refer to App E for CE discussion), compare to other five in Section 2a?\n",
    "# --- HLVKI+ ---\n",
    "network_spec = ['A+_H', 'A+_L', 'V+_V', 'K+_K', 'A+_I']\n",
    "locs = [x[-1] for x in network_spec]\n",
    "net = network.Network(network_spec)\n",
    "\n",
    "# --- BNS ---\n",
    "# waveform, LAL list: https://lscsoft.docs.ligo.org/lalsuite/lalsimulation/group___l_a_l_sim_inspiral__h.html\n",
    "# wf_model_name = 'lal_bns'\n",
    "# wf_other_var_dic = dict(approximant='IMRPhenomD_NRTidalv2') # for tidal, see https://arxiv.org/abs/1905.06011\n",
    "# to-do: fix \"TypeError: hfpc() missing 2 required positional arguments: 'lam_t' and 'delta_lam_t'\"\n",
    "# --> calculate tidal parameters from sampled m1, m2 in injections.py? requires Love number and radii (i.e. choose an EoS)\n",
    "wf_model_name, wf_other_var_dic = 'tf2_tidal', None # to-do: stop using this once tidal params found\n",
    "net.set_wf_vars(wf_model_name=wf_model_name, wf_other_var_dic=wf_other_var_dic)\n",
    "# injection settings - source\n",
    "mass_dict = dict(dist='gaussian', mean=1.35, sigma=0.15, mmin=1, mmax=2)\n",
    "spin_dict = dict(geom='cartesian', dim=1, chi_lo=-0.05, chi_hi=0.05)\n",
    "# zmin, zmax, seed (use same seeds to replicate results)\n",
    "redshift_bins = ((0, 0.5, 7669), (0.5, 1, 3103), (1, 2, 4431), (2, 4, 5526), (4, 10, 7035), (10, 50, 2785))\n",
    "coeff_fisco = 4 # fmax = 4*fisco for BNS, 8*fisco for BBH\n",
    "\n",
    "base_params = {\n",
    "    'tc':    0,\n",
    "    'phic':  0,\n",
    "    'gmst0': 0, # assume zero given B2021\n",
    "    'lam_t': 800, # combined dimensionless tidal deformability, 800 for GW170817, to-do: figure out\n",
    "    'delta_lam_t': 0, # assuming zero but can be calculated if m1, m2, Love number, and EoS (i.e. radii) known\n",
    "}\n",
    "\n",
    "# derivative settings\n",
    "# assign with respect to which parameters to take derivatives for the FIM\n",
    "deriv_symbs_string = 'Mc eta DL tc phic iota ra dec psi'\n",
    "# assign which parameters to convert to log or cos versions for differentiation\n",
    "conv_cos = ('dec', 'iota')\n",
    "conv_log = ('Mc', 'DL', 'lam_t')\n",
    "numerical_deriv_settings = dict(step=1e-9, method='central', order=2, n=1) # default\n",
    "\n",
    "# network settings: whether to include Earth's rotation and individual detector calculations\n",
    "use_rot = 1\n",
    "only_net = 1\n",
    "\n",
    "# injection settings - other: number of injections per redshift bin (over 6 bins)\n",
    "num_injs = 100 # start with 10, then build to 1e6 (how did they compute 1e6 with numerical derivs?)\n",
    "redshifted = 1 # whether sample masses already redshifted wrt z\n",
    "if wf_other_var_dic is not None:\n",
    "    file_tag = f'NET_{net.label}_WF_{wf_model_name}_{wf_other_var_dic[\"approximant\"]}_NUM-INJS_{num_injs}'\n",
    "    human_file_tag = f'network: {net.label.replace(\"..\", \", \")}\\nwaveform: {wf_model_name} with {wf_other_var_dic[\"approximant\"]}\\nnumber of injections per bin: {num_injs}'\n",
    "else:\n",
    "    file_tag = f'NET_{net.label}_WF_{wf_model_name}_NUM-INJS_{num_injs}'\n",
    "    human_file_tag = f'network: {net.label.replace(\"..\", \", \")}\\nwaveform: {wf_model_name}\\nnumber of injections per bin: {num_injs}'    \n",
    "    \n",
    "# if tf2 or tf2_tidal used\n",
    "generate_symbolic_derivatives(wf_model_name, wf_other_var_dic, deriv_symbs_string, locs, use_rot)"
   ]
  },
  {
   "cell_type": "markdown",
   "metadata": {},
   "source": [
    "Generate results, skip this cell if previously generated"
   ]
  },
  {
   "cell_type": "code",
   "execution_count": null,
   "metadata": {},
   "outputs": [],
   "source": [
    "# injection and benchmarking\n",
    "# concatenate injection data from different bins\n",
    "inj_data = np.empty((len(redshift_bins)*num_injs, 14))\n",
    "for i, (zmin, zmax, seed) in enumerate(redshift_bins):\n",
    "    cosmo_dict = dict(sampler='uniform', zmin=zmin, zmax=zmax)\n",
    "    # transposed array to get [[Mc0, eta0, ..., z0], [Mc1, eta1, ..., z1], ...]\n",
    "    # [Mc, eta, chi1x, chi1y, chi1z, chi2x, chi2y, chi2z, DL, iota, ra, dec, psi, z]    \n",
    "    inj_data[i*num_injs:(i+1)*num_injs] = np.array(injections.injections_CBC_params_redshift(cosmo_dict, mass_dict, spin_dict, redshifted, num_injs=num_injs, seed=seed)).transpose()\n",
    "\n",
    "def calculate_benchmark_from_injection(inj):\n",
    "    \"\"\"given a 14-array of [Mc, eta, chi1x, chi1y, chi1z, chi2x, chi2y, chi2z, DL, iota, ra, dec, psi, z],\n",
    "    returns a 7-tuple of the\n",
    "    * redshift z,\n",
    "    * integrated snr,\n",
    "    * fractional Mc and DL and absolute eta and iota errors,\n",
    "    * 90% sky area.\n",
    "    sigma_log(Mc) = sigma_Mc/Mc is fractional error in Mc and similarly for DL, sigma_eta is absolute,\n",
    "    while |sigma_cos(iota)| = |sigma_iota*sin(iota)| --> error in iota requires rescaling from output\"\"\"\n",
    "    varied_keys = ['Mc', 'eta', 'chi1x', 'chi1y', 'chi1z', 'chi2x', 'chi2y', 'chi2z', 'DL', 'iota', 'ra', 'dec', 'psi', 'z']\n",
    "    varied_params = dict(zip(varied_keys, inj))\n",
    "    z = varied_params.pop('z')\n",
    "    Mc, eta, iota = varied_params['Mc'], varied_params['eta'], varied_params['iota']\n",
    "    \n",
    "    Mtot = Mc/eta**0.6\n",
    "    #fisco = (6**1.5*PI*Mtot)**-1 # missing some number of Msun, c=1, G=1 factors\n",
    "    fisco = f_isco_Msolar(Mtot) #4.4/Mtot*1e3 # Hz # from https://arxiv.org/pdf/2011.05145.pdf\n",
    "    fmin, fmax, df = 5., float(min(coeff_fisco*fisco, 1024)), 10 # df=1/16 (fine) \n",
    "    f = np.arange(fmin, fmax, df)\n",
    "\n",
    "    # net_copy is automatically deleted once out of scope (is copying necessary with Pool()?)\n",
    "    net_copy = deepcopy(net)\n",
    "    inj_params = dict(**base_params, **varied_params)\n",
    "    net_copy.set_net_vars(f=f, inj_params=inj_params, deriv_symbs_string=deriv_symbs_string,\n",
    "                          conv_cos=conv_cos, conv_log=conv_log, use_rot=use_rot)\n",
    "\n",
    "    basic_network_benchmarking(net_copy, numerical_over_symbolic_derivs=False, only_net=only_net,\n",
    "                               numerical_deriv_settings=numerical_deriv_settings, hide_prints=True)\n",
    "\n",
    "    if net_copy.wc_fisher:\n",
    "        # convert sigma_cos(iota) into sigma_iota\n",
    "        abs_err_iota = abs(net_copy.errs['cos_iota']/np.sin(iota))\n",
    "        return (z, net_copy.snr, net_copy.errs['log_Mc'], net_copy.errs['log_DL'], net_copy.errs['eta'],\n",
    "                abs_err_iota, net_copy.errs['sky_area_90'])\n",
    "    else:\n",
    "        # to-do: check if CE only is still ill-conditioned\n",
    "        return (z, *np.full(6, np.nan))\n",
    "    \n",
    "# calculate results: z, snr, errs (logMc, logDL, eta, iota), sky area\n",
    "# p_umap is unordered in redshift for greater speed (check)\n",
    "results = np.array(p_umap(calculate_benchmark_from_injection, inj_data, num_cpus=os.cpu_count()-1))\n",
    "# filter out NaNs\n",
    "results = without_rows_w_nan(results)\n",
    "if len(results) == 0:\n",
    "    print('All values are NaN, FIM is ill-conditioned.')\n",
    "np.save(f'data_B&S2022_replication/results_{file_tag}.npy', results)"
   ]
  },
  {
   "cell_type": "markdown",
   "metadata": {},
   "source": [
    "Run from here to load and plot results"
   ]
  },
  {
   "cell_type": "markdown",
   "metadata": {},
   "source": [
    "Calculting efficiency and plotting"
   ]
  },
  {
   "cell_type": "code",
   "execution_count": 93,
   "metadata": {},
   "outputs": [],
   "source": [
    "results = np.load(f'data_B&S2022_replication/results_{file_tag}.npy')\n",
    "\n",
    "# count efficiency over sources in (z, z+Delta_z) for z=0.01 to 50\n",
    "zmin_plot, zmax_plot, num_zbins_fine = 1e-2, 50, 40 # eyeballing 40 bins from Fig 2\n",
    "redshift_bins_fine = list(zip(np.geomspace(zmin_plot, zmax_plot, num_zbins_fine)[:-1],\n",
    "                              np.geomspace(zmin_plot, zmax_plot, num_zbins_fine)[1:])) # redshift_bins are too wide\n",
    "zavg_efflo_effhi = np.empty((len(redshift_bins_fine), 3))\n",
    "for i, (zmin, zmax) in enumerate(redshift_bins_fine):\n",
    "    z_snr_in_bin = results[:,0:2][np.logical_and(zmin < results[:,0], results[:,0] < zmax)]\n",
    "    if len(z_snr_in_bin) == 0:\n",
    "        zavg_efflo_effhi[i] = [np.nan, np.nan, np.nan]\n",
    "    else:\n",
    "        zavg_efflo_effhi[i,0] = gmean(z_snr_in_bin[:,0]) # geometric mean, just using zmax is cleaner but less accurate\n",
    "        zavg_efflo_effhi[i,1] = np.mean(z_snr_in_bin[:,1] > SNR_THRESHOLD_LO)\n",
    "        zavg_efflo_effhi[i,2] = np.mean(z_snr_in_bin[:,1] > SNR_THRESHOLD_HI)\n",
    "zavg_efflo_effhi = without_rows_w_nan(zavg_efflo_effhi)    \n",
    "\n",
    "# fit three-parameter sigmoids to efficiency curves vs redshift\n",
    "sigmoid_3parameter = lambda z, a, b, c : ((1+b)/(1+b*np.exp(a*z)))**c\n",
    "# from Table 9\n",
    "p0s = [[62.08, 0.00584, 0.3341], [607.7, 0.006674, 0.3529]] # threshold 10 then 100\n",
    "# use p0=(ai,bi,ci) or bounds=([a0,a1],[b0,b1],[c0,c1])\n",
    "popts, pcovs = zip(curve_fit(sigmoid_3parameter, zavg_efflo_effhi[:,0], zavg_efflo_effhi[:,1], method='dogbox', p0=p0s[0]),\n",
    "                   curve_fit(sigmoid_3parameter, zavg_efflo_effhi[:,0], zavg_efflo_effhi[:,2], method='dogbox', p0=p0s[1]))\n",
    "perrs = [np.sqrt(np.diag(pcov)) for pcov in pcovs]\n",
    "# lambdas in list comprehension are unintuitive, be explicit unless confident, see:\n",
    "# https://stackoverflow.com/questions/6076270/lambda-function-in-list-comprehensions\n",
    "# det_eff_fits = [(lambda z : sigmoid_3parameter(z, *popt)) for popt in popts]\n",
    "det_eff_fits = [(lambda z : sigmoid_3parameter(z, *popts[0])), (lambda z : sigmoid_3parameter(z, *popts[1]))]\n",
    "# print(f'input {p0}\\noptimal {list(popt)}\\nerrors {perr}')\n",
    "\n",
    "# detection efficiency, interpolate from sigmoid fit\n",
    "def det_eff(z, snr_threshold):\n",
    "    if snr_threshold == 10:\n",
    "        return det_eff_fits[0](z)\n",
    "    elif snr_threshold == 100:\n",
    "        return det_eff_fits[1](z)\n",
    "    else:\n",
    "        # to-do: add this feature\n",
    "        raise ValueError(\"SNR thresholds other than 10 or 100 are not yet supported\") \n",
    "\n",
    "# to-do: fix merger rate so that the plot reaches beyond 1e5 detections per year, maybe a units issue?\n",
    "#merger_rate = lambda z: injections.bns_md_merger_rate(z) # too low (1e1) but below is too large (1e13)\n",
    "# don't know if injections.bns_md_merger_rate(z) is R(z) or \\dot{n}(z) (merger rate density)\n",
    "# bns_md_merger_rate_uniform_comoving_volume_redshift_inversion_sampler suggests the latter\n",
    "differential_comoving_volume = lambda z : 4.*PI*Planck18.differential_comoving_volume(z).value # in Mpc^3\n",
    "merger_rate = lambda z: injections.bns_md_merger_rate(z)*differential_comoving_volume(z) # now in yr^-1? what is bns_md..._rate in?\n",
    "# not just 1e-9 difference, confusing\n",
    "\n",
    "# i.e. \"merger rate\" in Fig 2, not R(z) but int R(z)/(1+z), i.e. if perfect efficiency, quad returns (value, error)\n",
    "det_rate_limit = lambda z0 : quad(lambda z : merger_rate(z)/(1+z), 0, z0)[0]\n",
    "# detection rate\n",
    "det_rate = lambda z0, snr_threshold : quad(lambda z : det_eff(z, snr_threshold)*merger_rate(z)/(1+z), 0, z0)[0]"
   ]
  },
  {
   "cell_type": "code",
   "execution_count": 97,
   "metadata": {},
   "outputs": [
    {
     "data": {
      "application/vnd.jupyter.widget-view+json": {
       "model_id": "c81034d743ed44eab52e4ff222c44857",
       "version_major": 2,
       "version_minor": 0
      },
      "text/plain": [
       "  0%|          | 0/100 [00:00<?, ?it/s]"
      ]
     },
     "metadata": {},
     "output_type": "display_data"
    },
    {
     "data": {
      "application/vnd.jupyter.widget-view+json": {
       "model_id": "09ef68aa4809451c9d740fa0288e4ce4",
       "version_major": 2,
       "version_minor": 0
      },
      "text/plain": [
       "  0%|          | 0/100 [00:00<?, ?it/s]"
      ]
     },
     "metadata": {},
     "output_type": "display_data"
    },
    {
     "data": {
      "application/vnd.jupyter.widget-view+json": {
       "model_id": "82f196f5058748f294bb78412de70a69",
       "version_major": 2,
       "version_minor": 0
      },
      "text/plain": [
       "  0%|          | 0/100 [00:00<?, ?it/s]"
      ]
     },
     "metadata": {},
     "output_type": "display_data"
    },
    {
     "data": {
      "application/vnd.jupyter.widget-view+json": {
       "model_id": "1d9dfec98bf546c59dff5e41df9f22a4",
       "version_major": 2,
       "version_minor": 0
      },
      "text/plain": [
       "  0%|          | 0/100 [00:00<?, ?it/s]"
      ]
     },
     "metadata": {},
     "output_type": "display_data"
    },
    {
     "data": {
      "application/vnd.jupyter.widget-view+json": {
       "model_id": "81ef069fcb714b979e1f600104166cd3",
       "version_major": 2,
       "version_minor": 0
      },
      "text/plain": [
       "  0%|          | 0/100 [00:00<?, ?it/s]"
      ]
     },
     "metadata": {},
     "output_type": "display_data"
    },
    {
     "data": {
      "image/png": "[encoded data removed]",
      "text/plain": [
       "<Figure size 432x864 with 3 Axes>"
      ]
     },
     "metadata": {
      "needs_background": "light"
     },
     "output_type": "display_data"
    }
   ],
   "source": [
    "# plotting\n",
    "colours = 'darkred', 'red'\n",
    "zaxis_plot = np.geomspace(zmin_plot, zmax_plot, 100)\n",
    "\n",
    "plt.rcParams.update({'font.size': 14})\n",
    "fig, axs = plt.subplots(3, 1, sharex=True, figsize=(6, 12), gridspec_kw={'wspace':0, 'hspace':0.05})\n",
    "\n",
    "# SNR vs redshift\n",
    "# use integrated SNR rho from standard benchmarking, not sure if B&S2022 use matched filter\n",
    "axs[0].loglog(results[:,0], results[:,1], '.')\n",
    "axs[0].axhspan(0, SNR_THRESHOLD_LO, alpha=0.5, color='lightgrey')\n",
    "axs[0].axhspan(0, SNR_THRESHOLD_HI, alpha=0.25, color='lightgrey')\n",
    "axs[0].set_ylabel(r'integrated SNR, $\\rho$')\n",
    "axs[0].set_title(human_file_tag, fontsize=14)\n",
    "\n",
    "# efficiency vs redshift\n",
    "axs[1].axhline(0, color='grey', linewidth=0.5)\n",
    "axs[1].axhline(1, color='grey', linewidth=0.5)\n",
    "axs[1].plot(zavg_efflo_effhi[:,0], zavg_efflo_effhi[:,1], 'o', color=colours[0], label=fr'$\\rho$ > {SNR_THRESHOLD_LO}')\n",
    "axs[1].plot(zavg_efflo_effhi[:,0], zavg_efflo_effhi[:,2], 's', color=colours[1], label=fr'$\\rho$ > {SNR_THRESHOLD_HI}')\n",
    "axs[1].semilogx(zaxis_plot, list(p_map(lambda z : sigmoid_3parameter(z, *p0s[0]),   zaxis_plot)), color=colours[0], linestyle='dotted', label='fit from B&S2022')\n",
    "axs[1].semilogx(zaxis_plot, det_eff_fits[0](zaxis_plot), color=colours[0], label='optimal fit')\n",
    "axs[1].semilogx(zaxis_plot, list(p_map(lambda z : sigmoid_3parameter(z, *p0s[1]),   zaxis_plot)), color=colours[1], linestyle='dotted')\n",
    "axs[1].semilogx(zaxis_plot, det_eff_fits[1](zaxis_plot), color=colours[1])\n",
    "axs[1].legend()\n",
    "axs[1].set_ylim((0-0.05, 1+0.05))\n",
    "axs[1].set_ylabel(r'detection efficiency, $\\varepsilon$')\n",
    "fig.align_ylabels()\n",
    "\n",
    "# detection rate vs redshift\n",
    "# merger rate depends on star formation rate and the delay between formation and merger\n",
    "axs[2].loglog(zaxis_plot, list(p_map(det_rate_limit, zaxis_plot)), color='black', linewidth=1)\n",
    "axs[2].loglog(zaxis_plot, list(p_map(lambda z : det_rate(z, snr_threshold=10), zaxis_plot)), color=colours[0])\n",
    "axs[2].loglog(zaxis_plot, list(p_map(lambda z : det_rate(z, snr_threshold=100), zaxis_plot)), color=colours[1])\n",
    "# axs[2].set_ylabel(r'detection rate, $D_R$ / $\\mathrm{yr}^{-1}$')\n",
    "axs[2].set_ylabel('detection rate, D_R / [T^-1]\\nscale is wrong, why?')\n",
    "\n",
    "axs[-1].set_xscale('log')\n",
    "axs[-1].set_xlim((zmin_plot, zmax_plot))\n",
    "axs[-1].xaxis.set_minor_locator(plt.LogLocator(base=10.0, subs=0.1*np.arange(1, 10), numticks=10))\n",
    "axs[-1].xaxis.set_minor_formatter(plt.NullFormatter())\n",
    "axs[-1].set_xlabel('redshift, z')\n",
    "\n",
    "fig.savefig(f'snr_eff_rate_vs_redshift_{file_tag}.pdf', bbox_inches='tight')\n",
    "plt.show(fig)\n",
    "plt.close(fig)"
   ]
  },
  {
   "cell_type": "code",
   "execution_count": null,
   "metadata": {},
   "outputs": [],
   "source": []
  },
  {
   "cell_type": "code",
   "execution_count": null,
   "metadata": {},
   "outputs": [],
   "source": [
    "# to-do: fix merger rate units so that the plot reaches beyond 1e5 detections per year, maybe a units issue?"
   ]
  },
  {
   "cell_type": "code",
   "execution_count": null,
   "metadata": {},
   "outputs": [],
   "source": [
    "# to-do: increase sampling below 4e-2, but App A uses (0, 0.5, seed)?"
   ]
  },
  {
   "cell_type": "code",
   "execution_count": null,
   "metadata": {},
   "outputs": [],
   "source": [
    "# to-do: re-factor and try other five networks and CE alone"
   ]
  },
  {
   "cell_type": "code",
   "execution_count": null,
   "metadata": {},
   "outputs": [],
   "source": [
    "# to-do: study BBH science case as well"
   ]
  },
  {
   "cell_type": "code",
   "execution_count": null,
   "metadata": {},
   "outputs": [],
   "source": [
    "\"\"\"In fact, we see that the three generations (A+, Voyager, and NG) are qualitatively different\n",
    "with respect to every metric used in this study.\"\"\""
   ]
  },
  {
   "cell_type": "code",
   "execution_count": null,
   "metadata": {},
   "outputs": [],
   "source": []
  }
 ],
 "metadata": {
  "kernelspec": {
   "display_name": "Python 3 (ipykernel)",
   "language": "python",
   "name": "python3"
  },
  "language_info": {
   "codemirror_mode": {
    "name": "ipython",
    "version": 3
   },
   "file_extension": ".py",
   "mimetype": "text/x-python",
   "name": "python",
   "nbconvert_exporter": "python",
   "pygments_lexer": "ipython3",
   "version": "3.9.10"
  }
 },
 "nbformat": 4,
 "nbformat_minor": 4
}
