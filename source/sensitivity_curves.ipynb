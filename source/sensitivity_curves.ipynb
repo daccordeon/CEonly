{
 "cells": [
  {
   "cell_type": "markdown",
   "id": "f3738cc3",
   "metadata": {},
   "source": [
    "James Gardner, March 2022"
   ]
  },
  {
   "cell_type": "code",
   "execution_count": null,
   "id": "81b4e7dc",
   "metadata": {},
   "outputs": [],
   "source": [
    "# overkill but whatever\n",
    "from benchmarking import *"
   ]
  },
  {
   "cell_type": "code",
   "execution_count": null,
   "id": "8b756c6e",
   "metadata": {},
   "outputs": [],
   "source": [
    "# initialise network\n",
    "# fixed location for comparing PSDs (noise doesn't depend on it but detector response does, except eq3.6 suggests otherwise, see confusion below)\n",
    "loc = 'H'\n",
    "# detector technologies\n",
    "tecs_2GET = ['aLIGO',\n",
    "             'A+', 'V+', 'K+',\n",
    "             'Voyager-CBO', 'Voyager-PMO',\n",
    "             'ET']\n",
    "tecs_CE = [f'CE{n}-{Larm}-{opt}' for n in [1, 2] for opt in ['CBO', 'PMO'] for Larm in range(10, 50, 10)]\n",
    "\n",
    "# omni-network\n",
    "network_spec = [f'{tec}_{loc}' for tec in tecs_2GET + tecs_CE] # using list concatenation (+) \n",
    "locs = [loc for _ in network_spec]\n",
    "net = network.Network(network_spec)\n",
    "\n",
    "# frequency range\n",
    "f = np.geomspace(1e0, 4e3, 100)\n",
    "\n",
    "# choose the desired waveform \n",
    "# wf_model_name, wf_other_var_dic = 'tf2', None\n",
    "# net.set_wf_vars(wf_model_name=wf_model_name)\n",
    "\n",
    "# injection parameters, for GW150914\n",
    "inj_params = {\n",
    "    'Mc':    30.9,\n",
    "    'eta':   0.247,\n",
    "    'chi1z': 0,\n",
    "    'chi2z': 0,\n",
    "    'DL':    475,\n",
    "    'tc':    0,\n",
    "    'phic':  0,\n",
    "    'iota':  PI/4,\n",
    "    'ra':    PI/4,\n",
    "    'dec':   PI/4,\n",
    "    'psi':   PI/4,\n",
    "    'gmst0': 0,\n",
    "}\n",
    "\n",
    "# derivative settings\n",
    "deriv_symbs_string = 'Mc eta DL tc phic iota ra dec psi'\n",
    "conv_cos = ('iota', 'dec')\n",
    "conv_log = ('Mc', 'DL')\n",
    "# network settings\n",
    "use_rot = 0\n",
    "only_net = 1\n",
    "\n",
    "net.set_net_vars(\n",
    "    f=f, inj_params=inj_params,\n",
    "    deriv_symbs_string=deriv_symbs_string,\n",
    "    conv_cos=conv_cos, conv_log=conv_log,\n",
    "    use_rot=use_rot\n",
    "    )\n",
    "print('Network initialised')"
   ]
  },
  {
   "cell_type": "code",
   "execution_count": null,
   "id": "f720bf7c",
   "metadata": {},
   "outputs": [],
   "source": [
    "# just psd required\n",
    "net.setup_ant_pat_lpf_psds()"
   ]
  },
  {
   "cell_type": "code",
   "execution_count": null,
   "id": "d2aa4cbb",
   "metadata": {},
   "outputs": [],
   "source": [
    "# plot sensitivity curves together, a la Fig 5 in Borhanian 2021\n",
    "colours_2GET = [*[(1, 0, 1, i) for i in np.arange(0.25, 1.25, 0.25)], (0, 1, 0, 0.5), (0, 1, 0, 1), (1, 0.5, 0, 1)]\n",
    "colours_CE = [(*rgb, Larm/40) for rgb in ((1, 0, 0), (0, 0, 1)) for Larm in range(10, 50, 10)]\n",
    "\n",
    "plt.rcParams.update({'font.size': 16})\n",
    "fig, axs = plt.subplots(2, 3, figsize=(16, 8), gridspec_kw={'wspace':0.05, 'hspace':0.1})\n",
    "for i, detector in enumerate(net.detectors):\n",
    "    # detector signal response is sky-position and polarisation dependent (in honours I assumed perfect alignment)\n",
    "#     axs[1].loglog(detector.f, np.abs(detector.hf))\n",
    "    # confused, formula for PSD looks like noise spectrum with no trace of signal transfer function\n",
    "    # SNR is calculated as H/Sn, which suggests that Sn is the spectrum of noise\n",
    "    # however, the units and scale are correct for the ASD of NSR in the plot\n",
    "    if detector.tec in tecs_2GET:\n",
    "        tec_type = 0\n",
    "        color=colours_2GET[i]\n",
    "    # else, is in CE\n",
    "    else:\n",
    "        tec_type = int(detector.tec[2])\n",
    "        color=colours_CE[tecs_CE.index(detector.tec) % 8]\n",
    "                \n",
    "    axs[0,tec_type].loglog(detector.f, np.sqrt(detector.psd), label=detector.tec, color=color)\n",
    "    axs[1,tec_type].loglog(detector.f, np.sqrt(detector.psd), label=detector.tec, color=color)\n",
    "\n",
    "# top row\n",
    "for i, ax in enumerate(axs[0]):\n",
    "    ax.legend(fontsize=14, ncol=2, columnspacing=1, handlelength=1)\n",
    "    ax.set(xlim=(f[0], f[-1]), ylim=(1e-25, 1e-15))\n",
    "    ax.set_xticklabels([])\n",
    "    if i > 0:\n",
    "        ax.set_yticklabels([]) \n",
    "    \n",
    "# bottom row\n",
    "for i, ax in enumerate(axs[1]):\n",
    "    # frequency range truncated to range specified in PSD\n",
    "    ax.set(xlabel='frequency, f / Hz', xlim=(f[0], f[-1]), ylim=(2e-25, 1e-23))\n",
    "    if i > 0:\n",
    "        ax.set_yticklabels([])\n",
    "    \n",
    "axs[0,0].set_ylabel(r'sensitivity / $\\mathrm{Hz}^{-1/2}$')\n",
    "axs[1,0].set_ylabel(r'sensitivity / $\\mathrm{Hz}^{-1/2}$')\n",
    "\n",
    "plt.show()\n",
    "fig.savefig('plots/sensitivity_curves.pdf')\n",
    "plt.close(fig)"
   ]
  },
  {
   "cell_type": "code",
   "execution_count": null,
   "id": "7ef5e5c5",
   "metadata": {},
   "outputs": [],
   "source": [
    "# to-do: resolve this confusion about noise, signal, and sensitivity"
   ]
  }
 ],
 "metadata": {
  "kernelspec": {
   "display_name": "Python 3 (ipykernel)",
   "language": "python",
   "name": "python3"
  },
  "language_info": {
   "codemirror_mode": {
    "name": "ipython",
    "version": 3
   },
   "file_extension": ".py",
   "mimetype": "text/x-python",
   "name": "python",
   "nbconvert_exporter": "python",
   "pygments_lexer": "ipython3",
   "version": "3.9.10"
  }
 },
 "nbformat": 4,
 "nbformat_minor": 5
}
